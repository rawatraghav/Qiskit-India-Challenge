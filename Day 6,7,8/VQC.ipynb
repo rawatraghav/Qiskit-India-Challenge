{
 "cells": [
  {
   "cell_type": "markdown",
   "metadata": {},
   "source": [
    "<img src=\"https://s3-ap-southeast-1.amazonaws.com/he-public-data/wordmark_black65ee464.png\" width=\"700\">"
   ]
  },
  {
   "cell_type": "markdown",
   "metadata": {},
   "source": [
    "# Variational Quantum Classifier"
   ]
  },
  {
   "cell_type": "markdown",
   "metadata": {},
   "source": [
    "## Contents\n",
    "\n",
    "1. [Introduction](#intro)    \n",
    "    1.1  [Data Pre-Processing](#pre-process)\n",
    "2. [Classification on a Quantum Computer](#vqc)    \n",
    "    2.1 [Loading Data onto the Quantum Computer](#feature-maps)    \n",
    "    2.2 [Building the Circuit that Classifies](#var-forms)      \n",
    "    2.3 [Measurement and Assigning a Binary Label](#validate)      \n",
    "    2.4 [Classical optimization loop](#classical-optimization)    \n",
    "3. [Classifying Digits 0 and 1](#full)\n"
   ]
  },
  {
   "cell_type": "markdown",
   "metadata": {},
   "source": [
    "## 1. Introduction <a id=\"intro\"></a>"
   ]
  },
  {
   "cell_type": "markdown",
   "metadata": {},
   "source": [
    "### 1.1 Data Pre-Processing <a id=\"pre-process\"></a>"
   ]
  },
  {
   "cell_type": "markdown",
   "metadata": {},
   "source": [
    "Similar to classical machine learning we employ various pre-processing techniques on the classical dataset before its fed into the quantum computer. This helps us work with larger and more complex datasets with the quantum computers we have today. The dataset we're going to work with today will be a subset of the popular handwritten digits dataset, the **[MNIST](http://yann.lecun.com/exdb/mnist/) dataset**. You can read more about it on the wikipedia page [here](https://en.wikipedia.org/wiki/MNIST_database)."
   ]
  },
  {
   "cell_type": "code",
   "execution_count": 1,
   "metadata": {},
   "outputs": [],
   "source": [
    "# installing a few dependencies\n",
    "!pip install --upgrade seaborn==0.10.1\n",
    "!pip install --upgrade scikit-learn==0.23.1\n",
    "!pip install --upgrade matplotlib==3.2.0\n",
    "!pip install --upgrade pandas==1.0.4\n",
    "!pip install --upgrade qiskit==0.19.6 \n",
    "\n",
    "# the output will be cleared after installation\n",
    "from IPython.display import clear_output\n",
    "clear_output()"
   ]
  },
  {
   "cell_type": "markdown",
   "metadata": {},
   "source": [
    "Lets start by importing the dataset which you can download [here](http://yann.lecun.com/exdb/mnist/) or use the one present in the directory in a .csv file format.\n",
    "\n",
    "**IMPORTANT:**\n",
    "* If you are using this notebook by cloning the repo Qiskit-Challenge-India/2020 you will have to first **unzip the dataset `mnist_train.csv.zip` to `mnist_train.csv`** before you can run the code below."
   ]
  },
  {
   "cell_type": "code",
   "execution_count": 2,
   "metadata": {},
   "outputs": [],
   "source": [
    "# importing some useful modules\n",
    "import numpy as np\n",
    "%matplotlib inline\n",
    "import matplotlib.pyplot as plt\n",
    "\n",
    "image_size = 28 # width and length are equal\n",
    "\n",
    "# Working directory:\n",
    "\n",
    "#- VQC_notebook.ipynb\n",
    "#- dataset\n",
    "#----mnist_train.csv\n",
    "#----mnist_test.csv\n",
    "\n",
    "# In case our working directory is not in the same configuration as given above, change the data_path variable to point to the dataset\n",
    "data_path = \"./dataset/\"\n",
    "train_data = np.loadtxt(data_path + \"mnist_train.csv\", delimiter=\",\")\n",
    "test_data = np.loadtxt(data_path + \"mnist_test.csv\", delimiter=\",\") "
   ]
  },
  {
   "cell_type": "code",
   "execution_count": 3,
   "metadata": {
    "scrolled": true
   },
   "outputs": [
    {
     "name": "stdout",
     "output_type": "stream",
     "text": [
      "Number of training datapoints: 60000\n",
      "Number of testing datapoints: 10000\n"
     ]
    }
   ],
   "source": [
    "print(\"Number of training datapoints: {}\".format(train_data.shape[0]))\n",
    "print(\"Number of testing datapoints: {}\".format(test_data.shape[0]))"
   ]
  },
  {
   "cell_type": "markdown",
   "metadata": {},
   "source": [
    "Before we move forward lets take a closer look at the structure of the training dataset:\n",
    "\n",
    "* There are a total of **60,000 datapoints** (rows in train_data) corresponding to digits ranging from `0` to `9`\n",
    "* The first column has the **label** of the datapoint ranging from `0` to `9`\n",
    "* The next 784 columns/features are each a 28 $\\times$ 28 grayscale image collapsed into a row. Therefore, the **dimension of the data is 784**. Each of these values range from 0 to 275 where **0 corresponds to white** and **255 corresponds to black**\n",
    "\n",
    "The testing dataset is also of the same format with just lesser datapoints. \n",
    "\n",
    "Here's an example of a datapoint with label `0`. "
   ]
  },
  {
   "cell_type": "code",
   "execution_count": 37,
   "metadata": {},
   "outputs": [
    {
     "data": {
      "image/png": "[encoded data removed]",
      "text/plain": [
       "<Figure size 432x288 with 1 Axes>"
      ]
     },
     "metadata": {
      "needs_background": "light"
     },
     "output_type": "display_data"
    }
   ],
   "source": [
    "img = train_data[:,1:][1].reshape((image_size, image_size))\n",
    "plt.imshow(img, cmap=\"Greys\")\n",
    "plt.show()"
   ]
  },
  {
   "cell_type": "markdown",
   "metadata": {},
   "source": [
    "As we will learn in the next section, dimension of the data is equal to the number of qubits we require to encode the data for the quantum feature maps we will use. As quantum computers or simulators today generally cannot work with large number of qubits, encoding data with dimension 784 is not possible. Hence, we resort to **classical dimensionality reduction techniques**. Precisely, we apply *truncated Singular Value Decomposition (SVD)* and *t-distributed stochastic neighbor embedding (t-SNE)* methods which are dimension reduction techniques to reduce the dimension down to 2 for the sake of this example. Knowledge of SVD and t-SNE is not required going forward and these dimensionality reduction methods are given only for your reference. The choice of these specific dimensionality reduction techniques has been adapted from [this](http://www.cse.chalmers.se/~richajo/dit866/lectures/l9/MNIST%20dimensionality%20reduction.html) resource and tweaking it for our specific problem. If you'd like to learn more about dimensionality reduction for the MNIST dataset you can read [Colah's blog](https://colah.github.io/posts/2014-10-Visualizing-MNIST/).\n",
    "\n",
    "As the number of training and testing samples we require will be very less, we only work with the training dataset going forward and extract training, testing and validation datasets from it when required. As we don't need a lot of training datapoints and t-SNE is computationally expensive we will only apply t-SNE on the first 10,000 datapoints. Note that as we develop larger quantum hardware in the future, the need for expensive classical pre-processing steps will be reduced."
   ]
  },
  {
   "cell_type": "code",
   "execution_count": 39,
   "metadata": {},
   "outputs": [],
   "source": [
    "# Extracting the features and labels from the dataset and shortening the dataset to 10,000 datapoints\n",
    "train_data_features = train_data[:10000, 1:]\n",
    "train_data_labels = train_data[:10000, :1].reshape(10000,)"
   ]
  },
  {
   "cell_type": "code",
   "execution_count": 6,
   "metadata": {},
   "outputs": [],
   "source": [
    "from sklearn.decomposition import TruncatedSVD\n",
    "from sklearn.manifold import TSNE\n",
    "\n",
    "# Using SVD to bring down the dimension to 10\n",
    "tsvd = TruncatedSVD(n_components=10)\n",
    "X_SVD = tsvd.fit_transform(train_data_features)\n",
    "\n",
    "# Further using t-SNE to bring the dimension down to 2\n",
    "np.random.seed(0)\n",
    "tsne = TSNE(n_components=2)\n",
    "train_data_features_reduced = tsne.fit_transform(X_SVD)"
   ]
  },
  {
   "cell_type": "code",
   "execution_count": 7,
   "metadata": {},
   "outputs": [
    {
     "name": "stdout",
     "output_type": "stream",
     "text": [
      "Dimension of the reduced dataset: 2\n"
     ]
    }
   ],
   "source": [
    "print(\"Dimension of the reduced dataset: {}\".format(train_data_features_reduced.shape[1]))"
   ]
  },
  {
   "cell_type": "markdown",
   "metadata": {},
   "source": [
    "Lets plot out the dataset to see if the labels are interpretable, i.e show some sort of clustering in the reduced dataset. For this we are creating a pandas dataframe and using seaborn to plot the data. "
   ]
  },
  {
   "cell_type": "code",
   "execution_count": 8,
   "metadata": {},
   "outputs": [],
   "source": [
    "import seaborn as sns\n",
    "import pandas as pd\n",
    "\n",
    "# function to help plot the 2-D dataset\n",
    "def plot2d(X, Y, c1, c2, N):\n",
    "    lbl1 = f'Component {c1}'\n",
    "    lbl2 = f'Component {c2}'    \n",
    "    df = pd.DataFrame({lbl1:X[:N,c1], lbl2:X[:N,c2], 'label':Y[:N]})\n",
    "    sns.lmplot(data=df, x=lbl1, y=lbl2, fit_reg=False, hue='label', scatter_kws={'alpha':0.5})   "
   ]
  },
  {
   "cell_type": "code",
   "execution_count": 9,
   "metadata": {},
   "outputs": [
    {
     "data": {
      "image/png": "[encoded data removed]",
      "text/plain": [
       "<Figure size 412x360 with 1 Axes>"
      ]
     },
     "metadata": {
      "needs_background": "light"
     },
     "output_type": "display_data"
    }
   ],
   "source": [
    "plot2d(train_data_features_reduced, train_data_labels, 0, 1, N=2000)"
   ]
  },
  {
   "cell_type": "markdown",
   "metadata": {},
   "source": [
    "As we can see, datapoints corresponding to labels such as `0` and `1` are well separated, however, ambiguous datapoints such as those corresponding to `4` and `9` are overlapping. This makes sense as even when observed by a naked eye `0` and `1` are easily distinguishable however `4` and `9` may not always be as they both have a vertical line towards the bottom and a loop-like structure on top. \n",
    "\n",
    "Though there are methods to convert SVMs into multiclass classifiers they are inherently binary classifiers. Thus, we will start by extracting datapoints corresponsing to the digits `0` and `1` from the reduced dataset and normalize their features to be between 0 and 2. Normalization is done as the values will be inserted into the quantum feature map as angles in radians. You can try different normalizations and see how it changes our output, however, during the final challenge a pre-normalised dataset will be provided to you.  "
   ]
  },
  {
   "cell_type": "code",
   "execution_count": 28,
   "metadata": {},
   "outputs": [],
   "source": [
    "zero_datapoints = []\n",
    "one_datapoints = []\n",
    "for i in range(10000):\n",
    "    if train_data_labels[i] == 0:                   # extracting zeros\n",
    "        zero_datapoints.append(train_data_features_reduced[i])\n",
    "\n",
    "for i in range(10000):\n",
    "    if train_data_labels[i] == 1:                   # extracting ones\n",
    "        one_datapoints.append(train_data_features_reduced[i])\n",
    "        \n",
    "zero_datapoints = np.array(zero_datapoints)\n",
    "one_datapoints = np.array(one_datapoints)\n",
    "\n",
    "def normalize(arr, max_val, n):\n",
    "    a = np.divide(arr, max_val)\n",
    "    return a + n\n",
    "\n",
    "zero_datapoints_normalized = normalize(zero_datapoints, 100, 1)\n",
    "one_datapoints_normalized = normalize(one_datapoints, 100, 1)"
   ]
  },
  {
   "cell_type": "markdown",
   "metadata": {},
   "source": [
    "## 2. Classification on a Quantum Computer <a id=\"vqc\"></a>\n",
    "\n",
    "There are multiple methods for classifying a dataset using a quantum computer, however, today we will concentrate on a method called the **Variational Quantum Classifier (VQC)** as proposed in the paper [Havlicek et.al](https://arxiv.org/abs/1804.11326) [1]. The paper also proposes another method called the the **Kernel Estimation Method** which may be interesting for those curious. \n",
    "\n",
    "Similar to classical machine learning the VQC algorithm has a **training stage** (where datapoints with labels are provided and learning takes place) and a **testing stage** (where new datapoints without labels are provided which are then classified). Each of these stages in VQC are a four step process: \n",
    "\n",
    "* **Loading Data onto the Quantum Computer** (Apply Feature Map)\n",
    "* **Building the Circuit that Classifies** (Variational Circuit) \n",
    "* **Measurement and Assigning a Binary Label**\n",
    "* **Classical Optimization Loop**\n",
    "\n",
    "![vqc](./images/vqc.png)"
   ]
  },
  {
   "cell_type": "markdown",
   "metadata": {},
   "source": [
    "Through the course of this notebook we will look at each of these steps and gain an understanding on how the VQC algorithm works using the inbuilt `VQC` algorithm in Qiskit Aqua. Further, we will look at how we can use the `VQC` class in Qiskit Aqua to classify `0`'s and `1`'s along with customization of the algorithm to your needs. "
   ]
  },
  {
   "cell_type": "markdown",
   "metadata": {},
   "source": [
    "### 2.1 Loading Data onto the Quantum Computer <a id=\"feature-maps\"></a>\n",
    "\n",
    "Check out the qiskit-community tutorial on custom feature maps [here](https://github.com/qiskit-community/qiskit-community-tutorials/blob/master/machine_learning/custom_feature_map.ipynb) from which this section has been adapted. It has a few extra details on how to configure a custom `data map function` $\\phi_S$ which might be interesting when working with the inbuilt **quantum feature maps** (or Data Encoding Circuits) in Qiskit. \n",
    "\n",
    "The idea of quantum feature maps comes from the theory of kernels in classical machine learning where a dataset is mapped non-linearly onto a higher dimensional space where a hyperplane can be found that classifies it. \n",
    "\n",
    "As the name suggests, a **quantum feature map $\\phi(\\vec{x})$** is a map from the classical feature vector $\\vec{x}$ to the quantum state $|\\Phi(\\vec{x})\\rangle\\langle\\Phi(\\vec{x})|$, a vector in Hilbert space. This is faciliated by applying the unitary operation $\\mathcal{U}_{\\Phi(\\vec{x})}$ on the initial state $|0\\rangle^{n}$ where _n_ is the number of qubits being used for encoding. By doing this process we have now blown up the dimension of our feature space and the task of our classifier is to find a separating hyperlane in this new space.\n",
    "\n",
    "Constructing feature maps based on quantum circuits that are hard to simulate classically is an important step towards obtaining a quantum advantage over classical approaches. The authors of [[1]](https://arxiv.org/abs/1804.11326) proposed a family of feature maps that is conjectured (recently proved by another group) to be hard to simulate classically and that can be implemented as short-depth circuits on near-term quantum devices. The quantum feature map of depth $d$ is implemented by the unitary operator \n",
    "\n",
    "$$ \\mathcal{U}_{\\Phi(\\mathbf{x})}=\\prod_d U_{\\Phi(\\mathbf{x})}H^{\\otimes n},\\ U_{\\Phi(\\mathbf{x})}=\\exp\\left(i\\sum_{S\\subseteq[n]}\\phi_S(\\mathbf{x})\\prod_{k\\in S} P_k\\right) $$\n",
    "\n",
    "which contains layers of Hadamard gates interleaved with entangling blocks encoding the classical data as shown in circuit diagram below for $d=2$.\n",
    "\n",
    "<img src=\"./images/uphi.PNG\" width=\"400\" />\n",
    "\n",
    "The number of qubits $n$ in the quantum circuit is equal to the dimensionality of the classical data $\\mathbf{x}$ in these feature encodings, which are encoded through the coefficients $\\phi_S(\\mathbf{x})$, where $S \\subseteq[n] = \\{1, \\ldots, n \\}$. We call the $r$-th order expansion the feature map of this circuit family when $|S|\\leq r$. In Terra, the default is the second order expansion $|S|\\leq 2$ used in [[1]](https://arxiv.org/abs/1804.11326), which gives $n$ singeltons $S=\\{i\\}$ and, depending on the connectivity graph of the quantum device, up to $\\frac{n(n-1)}{2}$ couples to encode entangling interactions. The greater the upper bound $r$, the more interactions will be taken into account.\n",
    "\n",
    "Only contributions from $Z$ and $ZZ$ gates in the entangling blocks are considered in [[1]](https://arxiv.org/abs/1804.11326). In general, the blocks can be expressed in terms of the Pauli gates $P_k \\in \\{\\mathbb{1}_k, X_k, Y_k, Z_k \\}$.\n",
    "\n",
    "In the Terra circuit library, the circuit depth $d$, coefficients $\\phi_S$, entanglement, and gates $P_k$ are mutable for Variational Quantum Classifier. As discussed in [[1]](https://arxiv.org/abs/1804.11326), the depth $d=1$ circuit can be efficiently simulated classically by uniform sampling, while the $d=2$ variant is conjectured to be hard to simulate classically."
   ]
  },
  {
   "cell_type": "markdown",
   "metadata": {},
   "source": [
    "### Using Feature Maps from the Terra Circuit Library\n",
    "\n",
    "We will now learn how to configure inbuilt quantum feature maps in Qiskit Terra by modifing the `circuit depth` $d$, `entanglement`, and gates $P_k$. Documentation on the quantum feature maps in Terra can be found in the [Circuit Library](https://qiskit.org/documentation/apidoc/circuit_library.html) under the \"Data Encoding Circuits\" section. \n",
    "\n",
    "We'll see how to build quantum feature maps inbuilt in Qiskit and a method to build your own custom feature map. A feature map is essentially a variational circuit and Qiskit Terra's circuit library has numerous variational circuits one could use for building their quantum feature map. However, the circuits specific to the data preparation step used in the paper [[1]](https://arxiv.org/abs/1804.11326) are : \n",
    "\n",
    "* ZFeatureMap\n",
    "* ZZFeatureMap\n",
    "* PauliFeatureMap\n",
    "\n",
    "These are also the feature maps that are available in Qiskit. Lets start by importing what is required."
   ]
  },
  {
   "cell_type": "code",
   "execution_count": 29,
   "metadata": {},
   "outputs": [],
   "source": [
    "from qiskit import *\n",
    "import numpy as np\n",
    "\n",
    "import time\n",
    "from qiskit.circuit.library import ZZFeatureMap, ZFeatureMap, PauliFeatureMap\n",
    "from qiskit.aqua.utils import split_dataset_to_data_and_labels, map_label_to_class_name\n",
    "from qiskit.aqua import QuantumInstance\n",
    "from qiskit.aqua.algorithms import VQC"
   ]
  },
  {
   "cell_type": "markdown",
   "metadata": {},
   "source": [
    "### ZFeatureMap"
   ]
  },
  {
   "cell_type": "markdown",
   "metadata": {},
   "source": [
    "A first order diagonal expansion is implemented using the `ZFeatureMap` feature map where $|S|=1$. The resulting circuit contains no interactions between features of the encoded data, and therefore no entanglement. The feature map can take the following inputs:\n",
    "\n",
    "- `feature_dimension`: dimensionality of the classical data (equal to the number of required qubits)\n",
    "- `reps`: number of times $d$ the feature map circuit is repeated\n",
    "- `data_map_func`: function $\\phi_S(\\mathbf{x})$ encoding the classical data.\n",
    "\n",
    "The default setting `data_map_func = self_product()` for the `ZFeatureMap` has $S = \\{i\\}$ and is given by \n",
    "\n",
    "$$\\phi_S:x\\mapsto x_i.$$"
   ]
  },
  {
   "cell_type": "code",
   "execution_count": 38,
   "metadata": {},
   "outputs": [
    {
     "data": {
      "image/png": "[encoded data removed]",
      "text/plain": [
       "<Figure size 659.792x204.68 with 1 Axes>"
      ]
     },
     "execution_count": 38,
     "metadata": {},
     "output_type": "execute_result"
    }
   ],
   "source": [
    "feature_dim = 3     # equal to the dimension of the data\n",
    "\n",
    "Z_feature_map = ZFeatureMap(feature_dimension=feature_dim, reps=4)\n",
    "Z_feature_map.draw('mpl')"
   ]
  },
  {
   "cell_type": "markdown",
   "metadata": {},
   "source": [
    "A good point to note at this point is that the `U1Gate` is an anti-clockwise rotation around the Z axis which changes the relative phase of a qubit, i.e, the $R_Z(\\phi)$ gate. And the reason why we see a factor of `2.0` inside all the gates, i.e, such as `U1(2.0*x[0])` is because $U_{\\Phi(\\mathbf{\\theta})}=\\exp\\left(i\\phi(\\mathbf{\\theta})Z_k\\right)$ and we know that $R_P(\\theta) = e^{(-i\\frac{\\theta}{2}P)}$ where $P$ is a Pauli X, Y or Z matrix."
   ]
  },
  {
   "cell_type": "code",
   "execution_count": 31,
   "metadata": {},
   "outputs": [
    {
     "name": "stdout",
     "output_type": "stream",
     "text": [
      "parameters of the Z Feature Map are: {Parameter(x[1]), Parameter(x[0]), Parameter(x[2])}\n"
     ]
    }
   ],
   "source": [
    "print(\"parameters of the Z Feature Map are: {}\".format(Z_feature_map.parameters))"
   ]
  },
  {
   "cell_type": "markdown",
   "metadata": {},
   "source": [
    "On playing around with the `feature_dim` attribute on `ZFeatureMap` we realize that for encoding data of dimension _d_ we require _d_ qubits. And this brings us to the reason why we applied dimension reduction techniques in the classical pre-processing step. Initially the data was of dimension 784 implying that we would require 784 qubits to encode it! Post the dimensionality reduction, we only require 2 qubits. We could however increase this dimension and test our accuracies - A good project to tinker on. \n",
    "\n",
    "The parameters $x[0], x[1]$ and $x[2]$ will be binded with the values of our feature vector $\\vec{x}$ during the implementation of our algorithm and thus becomes an immutable circuit. It is important to note that though we utilize variational circuits to build the Feature Map there is no learning of parameters taking place but the substitution of our data values.  "
   ]
  },
  {
   "cell_type": "markdown",
   "metadata": {},
   "source": [
    "### ZZFeatureMap"
   ]
  },
  {
   "cell_type": "markdown",
   "metadata": {},
   "source": [
    "The `ZZFeatureMap` feature map allows $|S|\\leq 2$, so interactions in the data will be encoded in the feature map according to the connectivity graph and the classical data map. `ZZFeatureMap` with default parameters is equivalent to the feature map described in [1] and can take the additional inputs:\n",
    "\n",
    "- `entanglement`: generates connectivity `'full'` or `'linear'` or defining your own entanglement structure (default value `'full'` indicates a complete connectivity graph of $\\frac{n(n-1)}{2}$ interactions)\n",
    "\n",
    "The default setting of the data map function in `ZZFeatureMap` is given by\n",
    "\n",
    "$$\\phi_S:x\\mapsto \\Bigg\\{\\begin{array}{ll}\n",
    "    x_i & \\mbox{if}\\ S=\\{i\\} \\\\\n",
    "        (\\pi-x_i)(\\pi-x_j) & \\mbox{if}\\ S=\\{i,j\\}\n",
    "    \\end{array}$$."
   ]
  },
  {
   "cell_type": "code",
   "execution_count": 32,
   "metadata": {},
   "outputs": [
    {
     "data": {
      "text/html": [
       "<pre style=\"word-wrap: normal;white-space: pre;background: #fff0;line-height: 1.1;font-family: &quot;Courier New&quot;,Courier,monospace\">     ┌───┐┌──────────────┐     »\n",
       "q_0: ┤ H ├┤ U1(2.0*x[0]) ├──■──»\n",
       "     ├───┤├──────────────┤┌─┴─┐»\n",
       "q_1: ┤ H ├┤ U1(2.0*x[1]) ├┤ X ├»\n",
       "     └───┘└──────────────┘└───┘»\n",
       "«                                                                         ┌───┐»\n",
       "«q_0: ─────────────────────────────────────────────────────────────────■──┤ H ├»\n",
       "«     ┌─────────────────────────────────────────────────────────────┐┌─┴─┐├───┤»\n",
       "«q_1: ┤ U1(2.0*(3.14159265358979 - x[0])*(3.14159265358979 - x[1])) ├┤ X ├┤ H ├»\n",
       "«     └─────────────────────────────────────────────────────────────┘└───┘└───┘»\n",
       "«     ┌──────────────┐     »\n",
       "«q_0: ┤ U1(2.0*x[0]) ├──■──»\n",
       "«     ├──────────────┤┌─┴─┐»\n",
       "«q_1: ┤ U1(2.0*x[1]) ├┤ X ├»\n",
       "«     └──────────────┘└───┘»\n",
       "«                                                                         \n",
       "«q_0: ─────────────────────────────────────────────────────────────────■──\n",
       "«     ┌─────────────────────────────────────────────────────────────┐┌─┴─┐\n",
       "«q_1: ┤ U1(2.0*(3.14159265358979 - x[0])*(3.14159265358979 - x[1])) ├┤ X ├\n",
       "«     └─────────────────────────────────────────────────────────────┘└───┘</pre>"
      ],
      "text/plain": [
       "     ┌───┐┌──────────────┐     »\n",
       "q_0: ┤ H ├┤ U1(2.0*x[0]) ├──■──»\n",
       "     ├───┤├──────────────┤┌─┴─┐»\n",
       "q_1: ┤ H ├┤ U1(2.0*x[1]) ├┤ X ├»\n",
       "     └───┘└──────────────┘└───┘»\n",
       "«                                                                         ┌───┐»\n",
       "«q_0: ─────────────────────────────────────────────────────────────────■──┤ H ├»\n",
       "«     ┌─────────────────────────────────────────────────────────────┐┌─┴─┐├───┤»\n",
       "«q_1: ┤ U1(2.0*(3.14159265358979 - x[0])*(3.14159265358979 - x[1])) ├┤ X ├┤ H ├»\n",
       "«     └─────────────────────────────────────────────────────────────┘└───┘└───┘»\n",
       "«     ┌──────────────┐     »\n",
       "«q_0: ┤ U1(2.0*x[0]) ├──■──»\n",
       "«     ├──────────────┤┌─┴─┐»\n",
       "«q_1: ┤ U1(2.0*x[1]) ├┤ X ├»\n",
       "«     └──────────────┘└───┘»\n",
       "«                                                                         \n",
       "«q_0: ─────────────────────────────────────────────────────────────────■──\n",
       "«     ┌─────────────────────────────────────────────────────────────┐┌─┴─┐\n",
       "«q_1: ┤ U1(2.0*(3.14159265358979 - x[0])*(3.14159265358979 - x[1])) ├┤ X ├\n",
       "«     └─────────────────────────────────────────────────────────────┘└───┘"
      ]
     },
     "execution_count": 32,
     "metadata": {},
     "output_type": "execute_result"
    }
   ],
   "source": [
    "feature_dim = 2\n",
    "\n",
    "ZZ_feature_map = ZZFeatureMap(feature_dimension=feature_dim, reps=2, insert_barriers=True)\n",
    "ZZ_feature_map.draw()"
   ]
  },
  {
   "cell_type": "code",
   "execution_count": 33,
   "metadata": {},
   "outputs": [
    {
     "name": "stdout",
     "output_type": "stream",
     "text": [
      "parameters of the Z Feature Map are: {Parameter(x[1]), Parameter(x[0])}\n"
     ]
    }
   ],
   "source": [
    "print(\"parameters of the Z Feature Map are: {}\".format(ZZ_feature_map.parameters))"
   ]
  },
  {
   "cell_type": "markdown",
   "metadata": {},
   "source": [
    "### PauliFeatureMap"
   ]
  },
  {
   "cell_type": "markdown",
   "metadata": {},
   "source": [
    "For some applications, we may want to consider a more general form of the feature map. One way to generalize is to use `PauliFeatureMap` and specify a set of Pauli gates instead of using the default $Z$ gates. This feature map has the same parameters as `ZFeatureMap` and `ZZFeatureMap` such as `reps` and `data_map_func` along with an additional `paulis` parameter to change the gate set. This parameter is a list of strings, each representing the desired Pauli gate(s). The default value is `['Z', 'ZZ']`, which is equivalent to `ZZFeatureMap`.\n",
    "\n",
    "\n",
    "Each string in `paulis` is implemented one at a time for each layer in the depth $d$ feature map circuit. A single character, for example `'Z'`, adds one layer of the corresponding single-qubit gates, while terms such as `'ZZ'` or `'XY'` add a layer of corresponding two-qubit entangling gates for each qubit pair available based on `entanglement`.\n",
    "\n",
    "For example, the choice `paulis = ['Z', 'Y', 'ZZ']` generates a quantum feature map of the form \n",
    "\n",
    "$$\\mathcal{U}_{\\Phi(\\mathbf{x})} = \\left( \\exp\\left(i\\sum_{jk} \\phi_{\\{j,k\\}}(\\mathbf{x}) \\, Z_j \\otimes Z_k\\right) \\, \\exp\\left(i\\sum_{j} \\phi_{\\{j\\}}(\\mathbf{x}) \\, Y_j\\right) \\, \\exp\\left(i\\sum_j \\phi_{\\{j\\}}(\\mathbf{x}) \\, Z_j\\right) \\, H^{\\otimes n} \\right)^d.$$ \n",
    "\n",
    "The depth $d=1$ version of this quantum circuit is shown in the figure below for $n=2$ qubits.\n",
    "\n",
    "\n",
    "<img src=\"./images/depth1.PNG\" width=\"400\"/>\n",
    "\n",
    "\n",
    "The circuit begins with a layer of Hadamard gates $H^{\\otimes n}$ followed by a layer of single-qubit $A = e^{i\\phi_{\\{j\\}}(\\mathbf{x})Z_j}$ gates and a layer of $B = e^{i\\phi_{\\{j\\}}(\\mathbf{x}) \\, Y_j}$ gates. The $A$ and $B$ gates are parametrized by the same set of angles $\\phi_{\\{j\\}}(\\mathbf{x})$ but around different axes. The diagonal entangling gate $e^{i \\phi_{\\{0,1\\}}(\\mathbf{x}) \\, Z_0 \\otimes Z_1}$ is parametrized by an angle $\\phi_{\\{0,1\\}}(\\mathbf{x})$ and can be implemented using two controlled-NOT gates and one $A'=e^{i\\phi_{\\{0,1\\}}(x)\\, Z_1}$ gate as shown in the figure.\n",
    "\n",
    "As a comparison, `paulis = ['Z', 'ZZ']` creates the same circuit as above but without the $B$ gates, while `paulis = ['Z', 'YY']` creates a circuit with a layer of $A$ gates followed by a layer of entangling gates $e^{i \\phi_{\\{0,1\\}}(\\mathbf{x}) \\, Y_0 \\otimes Y_1}$.\n",
    "\n",
    "Below, we test the `PauliFeatureMap` with `paulis=['Z', 'Y', 'ZZ']`."
   ]
  },
  {
   "cell_type": "code",
   "execution_count": 34,
   "metadata": {},
   "outputs": [
    {
     "data": {
      "text/html": [
       "<pre style=\"word-wrap: normal;white-space: pre;background: #fff0;line-height: 1.1;font-family: &quot;Courier New&quot;,Courier,monospace\">     ┌───┐┌──────────────┐┌───┐┌──────────────┐┌───┐┌──────────┐     »\n",
       "q_0: ┤ H ├┤ U1(2.0*x[0]) ├┤ H ├┤ U1(2.0*x[0]) ├┤ H ├┤ RX(pi/2) ├──■──»\n",
       "     ├───┤├──────────────┤├───┤├──────────────┤├───┤└──────────┘┌─┴─┐»\n",
       "q_1: ┤ H ├┤ U1(2.0*x[1]) ├┤ H ├┤ U1(2.0*x[1]) ├┤ H ├────────────┤ X ├»\n",
       "     └───┘└──────────────┘└───┘└──────────────┘└───┘            └───┘»\n",
       "«                                                                         »\n",
       "«q_0: ─────────────────────────────────────────────────────────────────■──»\n",
       "«     ┌─────────────────────────────────────────────────────────────┐┌─┴─┐»\n",
       "«q_1: ┤ U1(2.0*(3.14159265358979 - x[0])*(3.14159265358979 - x[1])) ├┤ X ├»\n",
       "«     └─────────────────────────────────────────────────────────────┘└───┘»\n",
       "«     ┌───────────┐\n",
       "«q_0: ┤ RX(-pi/2) ├\n",
       "«     └───────────┘\n",
       "«q_1: ─────────────\n",
       "«                  </pre>"
      ],
      "text/plain": [
       "     ┌───┐┌──────────────┐┌───┐┌──────────────┐┌───┐┌──────────┐     »\n",
       "q_0: ┤ H ├┤ U1(2.0*x[0]) ├┤ H ├┤ U1(2.0*x[0]) ├┤ H ├┤ RX(pi/2) ├──■──»\n",
       "     ├───┤├──────────────┤├───┤├──────────────┤├───┤└──────────┘┌─┴─┐»\n",
       "q_1: ┤ H ├┤ U1(2.0*x[1]) ├┤ H ├┤ U1(2.0*x[1]) ├┤ H ├────────────┤ X ├»\n",
       "     └───┘└──────────────┘└───┘└──────────────┘└───┘            └───┘»\n",
       "«                                                                         »\n",
       "«q_0: ─────────────────────────────────────────────────────────────────■──»\n",
       "«     ┌─────────────────────────────────────────────────────────────┐┌─┴─┐»\n",
       "«q_1: ┤ U1(2.0*(3.14159265358979 - x[0])*(3.14159265358979 - x[1])) ├┤ X ├»\n",
       "«     └─────────────────────────────────────────────────────────────┘└───┘»\n",
       "«     ┌───────────┐\n",
       "«q_0: ┤ RX(-pi/2) ├\n",
       "«     └───────────┘\n",
       "«q_1: ─────────────\n",
       "«                  "
      ]
     },
     "execution_count": 34,
     "metadata": {},
     "output_type": "execute_result"
    }
   ],
   "source": [
    "feature_dim = 2\n",
    "\n",
    "pauli_feature_map = PauliFeatureMap(feature_dimension=feature_dim, reps=1, paulis = ['Z','X','ZY'])\n",
    "pauli_feature_map.draw()"
   ]
  },
  {
   "cell_type": "markdown",
   "metadata": {},
   "source": [
    "These are the feature maps present in Qiskit and are the ones mentioned in the paper [[1]](https://arxiv.org/abs/1804.11326) as well. It is important to note that the feature maps used in the paper were designed with the aim for them to be hard to simulate on a classical computer and are not known to have a [kernel function](https://en.wikipedia.org/wiki/Kernel_method) for the dot product which can be efficiently computed classically. \n",
    "\n",
    "The dataset used in the paper was tailor-made to get a high classification accuracy with the quantum feature maps used. However, these feature maps may not perform well with other datasets. For a particular dataset, finding a quantum feature map that can spread the datapoints in Hilbert space in such a way that a hyperplane can be drawn to classify them is important to gain higher accuracies for our model. \n",
    "\n",
    "Further, it is important for the corresponding quantum feature map circuit to be shallow (i.e, have a small circuit depth) as decoherence will come into play and decrease our accuracies. Similarily having more 2-qubit gates will increase the error in the circuit thus leading to further decrease in accuracy. To understand more about errors in real quantum computers you can look at [this section](https://qiskit.org/textbook/ch-quantum-hardware/index-circuits.html) of the Qiskit textbook. This will not be required for the challenge going forward as we will only use local simulators. Creating such short depth feature maps for real-world datasets is an open problem and an active field of research in Quantum Machine Learning.\n",
    "\n",
    "As being able to construct tailor-made feature maps is important for increasing the accuracy we will look at a method to create your very own variational circuits in the following section. This can be used to create custom feature maps as well. "
   ]
  },
  {
   "cell_type": "markdown",
   "metadata": {},
   "source": [
    "### 2.2 Building the Circuit that Classifies <a id=\"var-forms\"></a>"
   ]
  },
  {
   "cell_type": "markdown",
   "metadata": {},
   "source": [
    "In this step we append a short depth [Variational Circuit](https://qiskit.org/documentation/tutorials/circuits_advanced/1_advanced_circuits.html) to the previously constructed feature map. The parameters of this variational circuit are then trained in the [classical optimization loop](#classical-optimization) until it classifies the datapoints correctly. This is the learning stage of the algorithm and accuracy of the model can vary based on the variational circuit one chooses. It is essential to choose a variational circuit of shorter depth (making it especially viable for implementations on real hardware), lesser number of parameters to train (faster training process) while making sure its [_Expressability and Entangling capacity_](https://arxiv.org/pdf/1905.10876.pdf) are enough to classify our dataset to the degree we want. Building variational circuits with such conflicting properties, similar to the study on quantum feature maps, is an active field of research.\n",
    "\n",
    "Coming to the implementation details, In Terra one can build variational circuits using multiple classes such as the `NLocal`, `RealAmplitudes` or the `FunctionalPauliRotations` class from the Terra circuit library. More variational forms can be found in the [documentation](https://qiskit.org/documentation/apidoc/circuit_library.html), [codebase](https://github.com/Qiskit/qiskit-terra/tree/master/qiskit/circuit/library)."
   ]
  },
  {
   "cell_type": "markdown",
   "metadata": {},
   "source": [
    "**Constructing using [`Real Amplitudes`](https://qiskit.org/documentation/stubs/qiskit.circuit.library.RealAmplitudes.html):**"
   ]
  },
  {
   "cell_type": "markdown",
   "metadata": {},
   "source": [
    "Let us create a variational circuit using the inbuilt `Real Amplitudes` method. Do check out the [documentation page](https://qiskit.org/documentation/stubs/qiskit.circuit.library.RealAmplitudes.html) to understand more about its working."
   ]
  },
  {
   "cell_type": "code",
   "execution_count": 17,
   "metadata": {},
   "outputs": [
    {
     "data": {
      "text/html": [
       "<pre style=\"word-wrap: normal;white-space: pre;background: #fff0;line-height: 1.1;font-family: &quot;Courier New&quot;,Courier,monospace\">     ┌──────────┐     ┌──────────┐     ┌──────────┐     ┌──────────┐\n",
       "q_0: ┤ RY(θ[0]) ├──■──┤ RY(θ[2]) ├──■──┤ RY(θ[4]) ├──■──┤ RY(θ[6]) ├\n",
       "     ├──────────┤┌─┴─┐├──────────┤┌─┴─┐├──────────┤┌─┴─┐├──────────┤\n",
       "q_1: ┤ RY(θ[1]) ├┤ X ├┤ RY(θ[3]) ├┤ X ├┤ RY(θ[5]) ├┤ X ├┤ RY(θ[7]) ├\n",
       "     └──────────┘└───┘└──────────┘└───┘└──────────┘└───┘└──────────┘</pre>"
      ],
      "text/plain": [
       "     ┌──────────┐     ┌──────────┐     ┌──────────┐     ┌──────────┐\n",
       "q_0: ┤ RY(θ[0]) ├──■──┤ RY(θ[2]) ├──■──┤ RY(θ[4]) ├──■──┤ RY(θ[6]) ├\n",
       "     ├──────────┤┌─┴─┐├──────────┤┌─┴─┐├──────────┤┌─┴─┐├──────────┤\n",
       "q_1: ┤ RY(θ[1]) ├┤ X ├┤ RY(θ[3]) ├┤ X ├┤ RY(θ[5]) ├┤ X ├┤ RY(θ[7]) ├\n",
       "     └──────────┘└───┘└──────────┘└───┘└──────────┘└───┘└──────────┘"
      ]
     },
     "execution_count": 17,
     "metadata": {},
     "output_type": "execute_result"
    }
   ],
   "source": [
    "from qiskit.circuit.library import RealAmplitudes\n",
    "\n",
    "num_qubits = 2\n",
    "\n",
    "classifier_circ = RealAmplitudes(num_qubits, entanglement='full', reps=3)\n",
    "classifier_circ.draw()"
   ]
  },
  {
   "cell_type": "markdown",
   "metadata": {},
   "source": [
    "**Constructing a Custom Variational Circuit/Feature Map:** "
   ]
  },
  {
   "cell_type": "markdown",
   "metadata": {},
   "source": [
    "Up until this point we have learnt how to create feature maps and variational circuits using inbuilt methods in Qiskit. Now, let's create a custom variational circuit which can be used either in the place of a `FeatureMap` or as a `VariationalCircuit`. \n",
    "\n",
    "Creating a custom variational circuit is simple. While creating a `QuantumCircuit`, in the place where you would normally insert an angle you now have to insert a [`Parameter`](https://qiskit.org/documentation/stubs/qiskit.circuit.Parameter.html) object and this transforms our circuit into a variational circuit. For the sake of convenience we could use [`ParameterVector`](https://qiskit.org/documentation/stubs/qiskit.circuit.ParameterVector.html) to create a list of Pararmeters. Here's an example:"
   ]
  },
  {
   "cell_type": "code",
   "execution_count": 18,
   "metadata": {},
   "outputs": [
    {
     "data": {
      "text/html": [
       "<pre style=\"word-wrap: normal;white-space: pre;background: #fff0;line-height: 1.1;font-family: &quot;Courier New&quot;,Courier,monospace\">     ┌──────────┐                                                           »\n",
       "q_0: ┤ RX(x[0]) ├──■─────────────────────■────■─────────────────────■───────»\n",
       "     ├──────────┤┌─┴─┐┌───────────────┐┌─┴─┐  │                     │       »\n",
       "q_1: ┤ RX(x[1]) ├┤ X ├┤ U1(x[0]*x[1]) ├┤ X ├──┼─────────────────────┼────■──»\n",
       "     ├──────────┤└───┘└───────────────┘└───┘┌─┴─┐┌───────────────┐┌─┴─┐┌─┴─┐»\n",
       "q_2: ┤ RX(x[2]) ├───────────────────────────┤ X ├┤ U1(x[0]*x[2]) ├┤ X ├┤ X ├»\n",
       "     └──────────┘                           └───┘└───────────────┘└───┘└───┘»\n",
       "«                           \n",
       "«q_0: ──────────────────────\n",
       "«                           \n",
       "«q_1: ───────────────────■──\n",
       "«     ┌───────────────┐┌─┴─┐\n",
       "«q_2: ┤ U1(x[1]*x[2]) ├┤ X ├\n",
       "«     └───────────────┘└───┘</pre>"
      ],
      "text/plain": [
       "     ┌──────────┐                                                           »\n",
       "q_0: ┤ RX(x[0]) ├──■─────────────────────■────■─────────────────────■───────»\n",
       "     ├──────────┤┌─┴─┐┌───────────────┐┌─┴─┐  │                     │       »\n",
       "q_1: ┤ RX(x[1]) ├┤ X ├┤ U1(x[0]*x[1]) ├┤ X ├──┼─────────────────────┼────■──»\n",
       "     ├──────────┤└───┘└───────────────┘└───┘┌─┴─┐┌───────────────┐┌─┴─┐┌─┴─┐»\n",
       "q_2: ┤ RX(x[2]) ├───────────────────────────┤ X ├┤ U1(x[0]*x[2]) ├┤ X ├┤ X ├»\n",
       "     └──────────┘                           └───┘└───────────────┘└───┘└───┘»\n",
       "«                           \n",
       "«q_0: ──────────────────────\n",
       "«                           \n",
       "«q_1: ───────────────────■──\n",
       "«     ┌───────────────┐┌─┴─┐\n",
       "«q_2: ┤ U1(x[1]*x[2]) ├┤ X ├\n",
       "«     └───────────────┘└───┘"
      ]
     },
     "execution_count": 18,
     "metadata": {},
     "output_type": "execute_result"
    }
   ],
   "source": [
    "from qiskit.circuit import QuantumCircuit, ParameterVector\n",
    "\n",
    "num_qubits = 3            \n",
    "reps = 1              # number of times you'd want to repeat the circuit\n",
    "\n",
    "x = ParameterVector('x', length=num_qubits)  # creating a list of Parameters\n",
    "custom_circ = QuantumCircuit(num_qubits)\n",
    "\n",
    "# defining our parametric form\n",
    "for _ in range(reps):\n",
    "    for i in range(num_qubits):\n",
    "        custom_circ.rx(x[i], i)\n",
    "    for i in range(num_qubits):\n",
    "        for j in range(i + 1, num_qubits):\n",
    "            custom_circ.cx(i, j)\n",
    "            custom_circ.u1(x[i] * x[j], j)\n",
    "            custom_circ.cx(i, j)\n",
    "            \n",
    "custom_circ.draw()"
   ]
  },
  {
   "cell_type": "markdown",
   "metadata": {},
   "source": [
    "During the challenge phase, creating a custom feature map will become crucial in improving the accuracy of your model as it gives the freedom to create an effective feature map and variational circuit tailor made for your dataset. However, as we discussed earlier, the idea of \"how\" to create an effective feature map and variational circuit for a particular dataset are active fields of research and there is no concrete answer to it yet."
   ]
  },
  {
   "cell_type": "markdown",
   "metadata": {},
   "source": [
    "### 2.3 Measurement and Assigning a Binary Label <a id=\"validate\"></a> "
   ]
  },
  {
   "cell_type": "markdown",
   "metadata": {},
   "source": [
    "After creating and measuring the circuit we are left with an _n_ bit classical string from which we must derive a binary output which will be our classification result. This is done with the help of a boolean function $f: \\{0, 1\\}^{n} -> \\{0, 1\\}$. The way this boolean function is written out may not be as significant as the concepts earlier as modifying the boolean function will change the values of the parameters learned to accommodate for the change. Common examples of boolean functions are:\n",
    "\n",
    "* **Parity function** : modulus 2 sum of all the digits of the _n_ bit classical string. \n",
    "* **Choosing the \"k\"th digit** : Choose the digit number \"k\" in the _n_ bit classical string as the output, etc.\n",
    "\n",
    "This functionality is already inbuilt in the `VQC` method in Qiskit Aqua and you won't have to make any changes to it."
   ]
  },
  {
   "cell_type": "markdown",
   "metadata": {},
   "source": [
    "### 2.4 Classical optimization loop <a id=\"classical-optimization\"></a> "
   ]
  },
  {
   "cell_type": "markdown",
   "metadata": {},
   "source": [
    "Once we get our predictions a classical optimization routine changes the values of our variational circuit and repeats the whole process again. This is the classical loop that trains our parameters until the cost function value decreases. The details of the working have been ommitted as they are immutable and are not relevant going forward. However, you can look at the [code](https://github.com/Qiskit/qiskit-aqua/blob/master/qiskit/aqua/algorithms/classifiers/vqc.py) and the [optimization step](https://github.com/Qiskit/qiskit-aqua/blob/f5efe642f6374da45b96c5a73a9a01121f95081e/qiskit/aqua/algorithms/classifiers/vqc.py#L661) to understand exactly how this step takes place. \n",
    "\n",
    "Though there's isn't an available option to change the cost function during the optimization of VQC, Aqua provides you with a plethora of Optimization methods you could use during the training stage of the process. Here are a few for your reference:\n",
    "\n",
    "**Commonly used optimization methods in Aqua:**\n",
    "\n",
    "* COBYLA - Constrained Optimization By Linear Approximation optimizer.\n",
    "* SPSA - Simultaneous Perturbation Stochastic Approximation (SPSA) optimizer.\n",
    "* SLSQP - Sequential Least SQuares Programming optimizer, etc.\n",
    "\n",
    "The complete list can be found in the [documentation](https://qiskit.org/documentation/apidoc/qiskit.aqua.components.optimizers.html). "
   ]
  },
  {
   "cell_type": "markdown",
   "metadata": {},
   "source": [
    "## 3 Classifying Digits 0 and 1 <a id=\"full\"></a>"
   ]
  },
  {
   "cell_type": "markdown",
   "metadata": {},
   "source": [
    "Lets apply what we've learned using the **VQC method in Aqua** to solve our classifcation task of classifying digits `0` and `1`. Using 10,000 points for training using a simulator will take ages, hence we will take a very small subset of **20 training datapoints** and **10 testing datapoints**. We also keep 5 points per label as a validation set to see exactly how our model is classifying the given inputs. "
   ]
  },
  {
   "cell_type": "code",
   "execution_count": 19,
   "metadata": {},
   "outputs": [],
   "source": [
    "train_size = 20\n",
    "test_size = 10\n",
    "dp_size_zero = 5\n",
    "dp_size_one = 5\n",
    "\n",
    "zero_train = zero_datapoints_normalized[:train_size]\n",
    "one_train = one_datapoints_normalized[:train_size]\n",
    "\n",
    "zero_test = zero_datapoints_normalized[train_size + 1:train_size + test_size + 1]\n",
    "one_test = one_datapoints_normalized[train_size + 1:train_size + test_size + 1]\n",
    "\n",
    "training_input = {'A':zero_train, 'B':one_train}\n",
    "test_input = {'A':zero_test, 'B':one_test}\n",
    "\n",
    "# datapoints is our validation set\n",
    "datapoints = []\n",
    "dp_zero = zero_datapoints_normalized[train_size + test_size + 2:train_size + test_size + 2 + dp_size_zero]\n",
    "dp_one = one_datapoints_normalized[train_size + test_size + 2:train_size + test_size + 2 + dp_size_one]\n",
    "datapoints.append(np.concatenate((dp_zero, dp_one)))\n",
    "dp_y = np.array([0, 0, 0, 0, 0, 1, 1, 1, 1, 1])\n",
    "datapoints.append(dp_y)\n",
    "\n",
    "class_to_label = {'A': 0, 'B': 1}"
   ]
  },
  {
   "cell_type": "markdown",
   "metadata": {},
   "source": [
    "**Instantiate the Feature map to use:**"
   ]
  },
  {
   "cell_type": "code",
   "execution_count": 20,
   "metadata": {},
   "outputs": [
    {
     "data": {
      "text/html": [
       "<pre style=\"word-wrap: normal;white-space: pre;background: #fff0;line-height: 1.1;font-family: &quot;Courier New&quot;,Courier,monospace\">     ┌───┐┌──────────────┐     »\n",
       "q_0: ┤ H ├┤ U1(2.0*x[0]) ├──■──»\n",
       "     ├───┤├──────────────┤┌─┴─┐»\n",
       "q_1: ┤ H ├┤ U1(2.0*x[1]) ├┤ X ├»\n",
       "     └───┘└──────────────┘└───┘»\n",
       "«                                                                         ┌───┐»\n",
       "«q_0: ─────────────────────────────────────────────────────────────────■──┤ H ├»\n",
       "«     ┌─────────────────────────────────────────────────────────────┐┌─┴─┐├───┤»\n",
       "«q_1: ┤ U1(2.0*(3.14159265358979 - x[0])*(3.14159265358979 - x[1])) ├┤ X ├┤ H ├»\n",
       "«     └─────────────────────────────────────────────────────────────┘└───┘└───┘»\n",
       "«     ┌──────────────┐     »\n",
       "«q_0: ┤ U1(2.0*x[0]) ├──■──»\n",
       "«     ├──────────────┤┌─┴─┐»\n",
       "«q_1: ┤ U1(2.0*x[1]) ├┤ X ├»\n",
       "«     └──────────────┘└───┘»\n",
       "«                                                                         \n",
       "«q_0: ─────────────────────────────────────────────────────────────────■──\n",
       "«     ┌─────────────────────────────────────────────────────────────┐┌─┴─┐\n",
       "«q_1: ┤ U1(2.0*(3.14159265358979 - x[0])*(3.14159265358979 - x[1])) ├┤ X ├\n",
       "«     └─────────────────────────────────────────────────────────────┘└───┘</pre>"
      ],
      "text/plain": [
       "     ┌───┐┌──────────────┐     »\n",
       "q_0: ┤ H ├┤ U1(2.0*x[0]) ├──■──»\n",
       "     ├───┤├──────────────┤┌─┴─┐»\n",
       "q_1: ┤ H ├┤ U1(2.0*x[1]) ├┤ X ├»\n",
       "     └───┘└──────────────┘└───┘»\n",
       "«                                                                         ┌───┐»\n",
       "«q_0: ─────────────────────────────────────────────────────────────────■──┤ H ├»\n",
       "«     ┌─────────────────────────────────────────────────────────────┐┌─┴─┐├───┤»\n",
       "«q_1: ┤ U1(2.0*(3.14159265358979 - x[0])*(3.14159265358979 - x[1])) ├┤ X ├┤ H ├»\n",
       "«     └─────────────────────────────────────────────────────────────┘└───┘└───┘»\n",
       "«     ┌──────────────┐     »\n",
       "«q_0: ┤ U1(2.0*x[0]) ├──■──»\n",
       "«     ├──────────────┤┌─┴─┐»\n",
       "«q_1: ┤ U1(2.0*x[1]) ├┤ X ├»\n",
       "«     └──────────────┘└───┘»\n",
       "«                                                                         \n",
       "«q_0: ─────────────────────────────────────────────────────────────────■──\n",
       "«     ┌─────────────────────────────────────────────────────────────┐┌─┴─┐\n",
       "«q_1: ┤ U1(2.0*(3.14159265358979 - x[0])*(3.14159265358979 - x[1])) ├┤ X ├\n",
       "«     └─────────────────────────────────────────────────────────────┘└───┘"
      ]
     },
     "execution_count": 20,
     "metadata": {},
     "output_type": "execute_result"
    }
   ],
   "source": [
    "seed = 10598\n",
    "feature_dim = zero_train.shape[1]\n",
    "\n",
    "feature_map = ZZFeatureMap(feature_dimension=feature_dim, reps=2, entanglement='linear')\n",
    "feature_map.draw()"
   ]
  },
  {
   "cell_type": "markdown",
   "metadata": {},
   "source": [
    "**Instantiate the Classical Optimizer to use:**"
   ]
  },
  {
   "cell_type": "code",
   "execution_count": 21,
   "metadata": {},
   "outputs": [],
   "source": [
    "from qiskit.aqua.components.optimizers import COBYLA\n",
    "\n",
    "cobyla = COBYLA(maxiter=500, tol=0.001)"
   ]
  },
  {
   "cell_type": "markdown",
   "metadata": {},
   "source": [
    "**Instantiate the variational Circuit to use:**"
   ]
  },
  {
   "cell_type": "code",
   "execution_count": 22,
   "metadata": {},
   "outputs": [
    {
     "data": {
      "text/html": [
       "<pre style=\"word-wrap: normal;white-space: pre;background: #fff0;line-height: 1.1;font-family: &quot;Courier New&quot;,Courier,monospace\">     ┌──────────┐┌──────────┐     ┌──────────┐┌──────────┐     ┌──────────┐»\n",
       "q_0: ┤ RY(θ[0]) ├┤ RZ(θ[2]) ├──■──┤ RY(θ[4]) ├┤ RZ(θ[6]) ├──■──┤ RY(θ[8]) ├»\n",
       "     ├──────────┤├──────────┤┌─┴─┐├──────────┤├──────────┤┌─┴─┐├──────────┤»\n",
       "q_1: ┤ RY(θ[1]) ├┤ RZ(θ[3]) ├┤ X ├┤ RY(θ[5]) ├┤ RZ(θ[7]) ├┤ X ├┤ RY(θ[9]) ├»\n",
       "     └──────────┘└──────────┘└───┘└──────────┘└──────────┘└───┘└──────────┘»\n",
       "«     ┌───────────┐\n",
       "«q_0: ┤ RZ(θ[10]) ├\n",
       "«     ├───────────┤\n",
       "«q_1: ┤ RZ(θ[11]) ├\n",
       "«     └───────────┘</pre>"
      ],
      "text/plain": [
       "     ┌──────────┐┌──────────┐     ┌──────────┐┌──────────┐     ┌──────────┐»\n",
       "q_0: ┤ RY(θ[0]) ├┤ RZ(θ[2]) ├──■──┤ RY(θ[4]) ├┤ RZ(θ[6]) ├──■──┤ RY(θ[8]) ├»\n",
       "     ├──────────┤├──────────┤┌─┴─┐├──────────┤├──────────┤┌─┴─┐├──────────┤»\n",
       "q_1: ┤ RY(θ[1]) ├┤ RZ(θ[3]) ├┤ X ├┤ RY(θ[5]) ├┤ RZ(θ[7]) ├┤ X ├┤ RY(θ[9]) ├»\n",
       "     └──────────┘└──────────┘└───┘└──────────┘└──────────┘└───┘└──────────┘»\n",
       "«     ┌───────────┐\n",
       "«q_0: ┤ RZ(θ[10]) ├\n",
       "«     ├───────────┤\n",
       "«q_1: ┤ RZ(θ[11]) ├\n",
       "«     └───────────┘"
      ]
     },
     "execution_count": 22,
     "metadata": {},
     "output_type": "execute_result"
    }
   ],
   "source": [
    "from qiskit.circuit.library import EfficientSU2, RealAmplitudes\n",
    "\n",
    "var = EfficientSU2(feature_dim, reps=2)\n",
    "var.draw()"
   ]
  },
  {
   "cell_type": "markdown",
   "metadata": {},
   "source": [
    "Constructing a callback function to get the parameter values after each iteration. This step is optional but highly recommended to see if the algorithm is working and is optimizing your parameters as you'd expect it to. "
   ]
  },
  {
   "cell_type": "code",
   "execution_count": 23,
   "metadata": {},
   "outputs": [],
   "source": [
    "def call_back_vqc(eval_count, var_params, eval_val, index):\n",
    "    print(\"eval_count: {}\".format(eval_count))\n",
    "    print(\"var_params: {}\".format(var_params))\n",
    "    print(\"eval_val: {}\".format(eval_val))\n",
    "    print(\"index: {}\".format(index))"
   ]
  },
  {
   "cell_type": "markdown",
   "metadata": {},
   "source": [
    "**Bringing everything together**"
   ]
  },
  {
   "cell_type": "code",
   "execution_count": 24,
   "metadata": {},
   "outputs": [],
   "source": [
    "# initilizing our backend\n",
    "backend = BasicAer.get_backend('qasm_simulator')\n",
    "backend_options = {\"method\": \"statevector\"}\n",
    "\n",
    "# creating a quantum instance\n",
    "quantum_instance = QuantumInstance(backend, shots=1024, seed_simulator=seed, seed_transpiler=seed, backend_options=backend_options)\n",
    "\n",
    "#initilizing our VQC object\n",
    "vqc = VQC(optimizer=cobyla, feature_map=feature_map, var_form=var, callback=call_back_vqc, training_dataset=training_input, \n",
    "         test_dataset=test_input, datapoints=datapoints[0])"
   ]
  },
  {
   "cell_type": "code",
   "execution_count": 25,
   "metadata": {},
   "outputs": [
    {
     "name": "stdout",
     "output_type": "stream",
     "text": [
      "eval_count: 0\n",
      "var_params: [ 3.30045889e-01 -4.79979434e-04  8.18115898e-01  4.28213708e-01\n",
      " -2.50394732e+00  1.20481133e-01  8.07892857e-01  6.02120978e-01\n",
      " -8.65190000e-01 -1.53320351e-01 -2.40490559e-01 -6.07633463e-02]\n",
      "eval_val: 0.3726966196697955\n",
      "index: 0\n",
      "eval_count: 1\n",
      "var_params: [ 1.33004589e+00 -4.79979434e-04  8.18115898e-01  4.28213708e-01\n",
      " -2.50394732e+00  1.20481133e-01  8.07892857e-01  6.02120978e-01\n",
      " -8.65190000e-01 -1.53320351e-01 -2.40490559e-01 -6.07633463e-02]\n",
      "eval_val: 0.5273168871436633\n",
      "index: 1\n",
      "eval_count: 2\n",
      "var_params: [ 0.33004589  0.99952002  0.8181159   0.42821371 -2.50394732  0.12048113\n",
      "  0.80789286  0.60212098 -0.86519    -0.15332035 -0.24049056 -0.06076335]\n",
      "eval_val: 0.3726966196697955\n",
      "index: 2\n",
      "eval_count: 3\n",
      "var_params: [ 3.30045889e-01 -4.79979434e-04  1.81811590e+00  4.28213708e-01\n",
      " -2.50394732e+00  1.20481133e-01  8.07892857e-01  6.02120978e-01\n",
      " -8.65190000e-01 -1.53320351e-01 -2.40490559e-01 -6.07633463e-02]\n",
      "eval_val: 0.3726966196697955\n",
      "index: 3\n",
      "eval_count: 4\n",
      "var_params: [ 3.30045889e-01 -4.79979434e-04  8.18115898e-01  1.42821371e+00\n",
      " -2.50394732e+00  1.20481133e-01  8.07892857e-01  6.02120978e-01\n",
      " -8.65190000e-01 -1.53320351e-01 -2.40490559e-01 -6.07633463e-02]\n",
      "eval_val: 0.594904205996994\n",
      "index: 4\n",
      "eval_count: 5\n",
      "var_params: [ 3.30045889e-01 -4.79979434e-04  8.18115898e-01  4.28213708e-01\n",
      " -1.50394732e+00  1.20481133e-01  8.07892857e-01  6.02120978e-01\n",
      " -8.65190000e-01 -1.53320351e-01 -2.40490559e-01 -6.07633463e-02]\n",
      "eval_val: 0.36984926497795995\n",
      "index: 5\n",
      "eval_count: 6\n",
      "var_params: [ 3.30045889e-01 -4.79979434e-04  8.18115898e-01  4.28213708e-01\n",
      " -1.50394732e+00  1.12048113e+00  8.07892857e-01  6.02120978e-01\n",
      " -8.65190000e-01 -1.53320351e-01 -2.40490559e-01 -6.07633463e-02]\n",
      "eval_val: 0.4571641942913879\n",
      "index: 6\n",
      "eval_count: 7\n",
      "var_params: [ 3.30045889e-01 -4.79979434e-04  8.18115898e-01  4.28213708e-01\n",
      " -1.50394732e+00  1.20481133e-01  1.80789286e+00  6.02120978e-01\n",
      " -8.65190000e-01 -1.53320351e-01 -2.40490559e-01 -6.07633463e-02]\n",
      "eval_val: 0.32510452512518057\n",
      "index: 7\n",
      "eval_count: 8\n",
      "var_params: [ 3.30045889e-01 -4.79979434e-04  8.18115898e-01  4.28213708e-01\n",
      " -1.50394732e+00  1.20481133e-01  1.80789286e+00  1.60212098e+00\n",
      " -8.65190000e-01 -1.53320351e-01 -2.40490559e-01 -6.07633463e-02]\n",
      "eval_val: 0.32192059109060533\n",
      "index: 8\n",
      "eval_count: 9\n",
      "var_params: [ 3.30045889e-01 -4.79979434e-04  8.18115898e-01  4.28213708e-01\n",
      " -1.50394732e+00  1.20481133e-01  1.80789286e+00  1.60212098e+00\n",
      "  1.34810000e-01 -1.53320351e-01 -2.40490559e-01 -6.07633463e-02]\n",
      "eval_val: 0.37143586604378315\n",
      "index: 9\n",
      "eval_count: 10\n",
      "var_params: [ 3.30045889e-01 -4.79979434e-04  8.18115898e-01  4.28213708e-01\n",
      " -1.50394732e+00  1.20481133e-01  1.80789286e+00  1.60212098e+00\n",
      " -8.65190000e-01  8.46679649e-01 -2.40490559e-01 -6.07633463e-02]\n",
      "eval_val: 0.35212638894125786\n",
      "index: 10\n",
      "eval_count: 11\n",
      "var_params: [ 3.30045889e-01 -4.79979434e-04  8.18115898e-01  4.28213708e-01\n",
      " -1.50394732e+00  1.20481133e-01  1.80789286e+00  1.60212098e+00\n",
      " -8.65190000e-01 -1.53320351e-01  7.59509441e-01 -6.07633463e-02]\n",
      "eval_val: 0.46571880358515294\n",
      "index: 11\n",
      "eval_count: 12\n",
      "var_params: [ 3.30045889e-01 -4.79979434e-04  8.18115898e-01  4.28213708e-01\n",
      " -1.50394732e+00  1.20481133e-01  1.80789286e+00  1.60212098e+00\n",
      " -8.65190000e-01 -1.53320351e-01 -2.40490559e-01  9.39236654e-01]\n",
      "eval_val: 0.8060775208828093\n",
      "index: 12\n",
      "eval_count: 13\n",
      "var_params: [ 6.54100076e-02 -4.79979434e-04  8.18115898e-01  4.79006901e-02\n",
      " -1.49907401e+00 -2.89602291e-02  1.88447443e+00  1.60757035e+00\n",
      " -9.49936448e-01 -2.05018217e-01 -4.86604263e-01 -8.89408246e-01]\n",
      "eval_val: 0.35576629138647997\n",
      "index: 13\n",
      "eval_count: 14\n",
      "var_params: [ 8.14153660e-01 -4.79979434e-04  8.18115898e-01  3.78893946e-01\n",
      " -1.50331534e+00  1.01101274e-01  1.81782411e+00  1.60282766e+00\n",
      " -8.76180091e-01 -1.60024635e-01 -2.72407082e-01 -1.68223694e-01]\n",
      "eval_val: 0.30016259619646607\n",
      "index: 14\n",
      "eval_count: 15\n",
      "var_params: [ 0.81415366  0.24952002  0.8181159   0.37889395 -1.50331534  0.10110127\n",
      "  1.81782411  1.60282766 -0.87618009 -0.16002463 -0.27240708 -0.16822369]\n",
      "eval_val: 0.30016259619646607\n",
      "index: 15\n",
      "eval_count: 16\n",
      "var_params: [ 8.32647983e-01 -4.79979434e-04  8.18115898e-01  8.41072827e-01\n",
      " -1.50227124e+00  6.90836418e-02  1.83423162e+00  1.60399518e+00\n",
      " -8.94336916e-01 -1.71100841e-01 -3.25136648e-01 -3.45759870e-01]\n",
      "eval_val: 0.2383564740322514\n",
      "index: 16\n",
      "eval_count: 17\n",
      "var_params: [ 8.32647983e-01 -4.79979434e-04  1.06811590e+00  8.41072827e-01\n",
      " -1.50227124e+00  6.90836418e-02  1.83423162e+00  1.60399518e+00\n",
      " -8.94336916e-01 -1.71100841e-01 -3.25136648e-01 -3.45759870e-01]\n",
      "eval_val: 0.2383564740322514\n",
      "index: 17\n",
      "eval_count: 18\n",
      "var_params: [ 8.41454232e-01 -4.79979434e-04  8.18115898e-01  8.62033577e-01\n",
      " -1.50177408e+00  5.60553160e-01  1.84204421e+00  1.60455111e+00\n",
      " -9.02982462e-01 -1.76374882e-01 -3.50244336e-01 -4.30295421e-01]\n",
      "eval_val: 0.2449999454931108\n",
      "index: 18\n",
      "eval_count: 19\n",
      "var_params: [ 8.32647983e-01 -4.79979434e-04  8.18115898e-01  8.41072827e-01\n",
      " -1.25277589e+00  6.90836418e-02  1.81835486e+00  1.60399518e+00\n",
      " -8.94336916e-01 -1.71100841e-01 -3.25136648e-01 -3.45759870e-01]\n",
      "eval_val: 0.22957832876111017\n",
      "index: 19\n",
      "eval_count: 20\n",
      "var_params: [ 8.37225701e-01 -4.79979434e-04  8.18115898e-01  8.51968772e-01\n",
      " -1.28120355e+00  6.69036720e-02  1.32144617e+00  1.60428417e+00\n",
      " -8.98831096e-01 -1.73842425e-01 -3.38188279e-01 -3.89703654e-01]\n",
      "eval_val: 0.259049092623416\n",
      "index: 20\n",
      "eval_count: 21\n",
      "var_params: [ 8.32647983e-01 -4.79979434e-04  8.18115898e-01  8.41072827e-01\n",
      " -1.25277589e+00  6.90836418e-02  1.81835486e+00  1.60399518e+00\n",
      " -8.94336916e-01 -1.71100841e-01 -5.64789703e-01 -2.74581129e-01]\n",
      "eval_val: 0.23626305206434078\n",
      "index: 21\n",
      "eval_count: 22\n",
      "var_params: [ 9.85666366e-01 -4.79979434e-04  8.18115898e-01  1.20528919e+00\n",
      " -1.13405224e+00 -3.78573539e-03  2.00659866e+00  1.61365502e+00\n",
      " -1.04456290e+00 -2.62743183e-01 -2.58212772e-01 -4.05363142e-01]\n",
      "eval_val: 0.29278246652540174\n",
      "index: 22\n",
      "eval_count: 23\n",
      "var_params: [ 8.84461407e-01 -4.79979434e-04  8.18115898e-01  9.15534837e-01\n",
      " -1.25373005e+00  9.83429720e-02  1.80336084e+00  1.60399518e+00\n",
      " -7.37669611e-01 -1.71100841e-01 -2.76949707e-01 -1.83518343e-01]\n",
      "eval_val: 0.25010777782669924\n",
      "index: 23\n",
      "eval_count: 24\n",
      "var_params: [ 7.80791988e-01 -4.79979434e-04  8.18115898e-01  7.96628057e-01\n",
      " -1.22648831e+00  6.60192756e-03  1.88182589e+00  1.60600857e+00\n",
      " -5.50352134e-01 -1.90201666e-01 -4.06619507e-01 -6.79493540e-01]\n",
      "eval_val: 0.24995478222481332\n",
      "index: 24\n",
      "eval_count: 25\n",
      "var_params: [ 8.32647983e-01 -4.79979434e-04  8.18115898e-01  8.41072827e-01\n",
      " -1.25277589e+00  6.90836418e-02  1.81835486e+00  1.85261780e+00\n",
      " -8.94336916e-01 -1.44894018e-01 -3.25136648e-01 -3.45759870e-01]\n",
      "eval_val: 0.2507419864848367\n",
      "index: 25\n",
      "eval_count: 26\n",
      "var_params: [ 8.47951908e-01 -4.79979434e-04  8.18115898e-01  8.77513551e-01\n",
      " -1.24089002e+00  6.17801248e-02  1.83720456e+00  1.52648250e+00\n",
      " -9.17133371e-01  3.18975295e-01 -3.26877441e-01 -3.80145800e-01]\n",
      "eval_val: 0.2599799485547062\n",
      "index: 26\n",
      "eval_count: 27\n",
      "var_params: [ 3.51497076e-01 -4.79979434e-04  8.18115898e-01  9.45197299e-01\n",
      " -1.23619654e+00  7.86422863e-02  1.83536410e+00  1.56893205e+00\n",
      " -9.15968683e-01 -1.94157944e-01 -2.94476335e-01 -2.83894695e-01]\n",
      "eval_val: 0.2418398787512468\n",
      "index: 27\n",
      "eval_count: 28\n",
      "var_params: [ 8.37419835e-01 -4.79979434e-04  8.18115898e-01  8.50945353e-01\n",
      " -1.24851991e+00  3.13162527e-01  1.82810463e+00  1.59617928e+00\n",
      " -9.05785180e-01 -1.80398010e-01 -3.36453212e-01 -3.93566102e-01]\n",
      "eval_val: 0.22541467612083244\n",
      "index: 28\n",
      "eval_count: 29\n",
      "var_params: [ 0.83741984 -0.12547998  0.8181159   0.85094535 -1.24851991  0.31316253\n",
      "  1.82810463  1.59617928 -0.90578518 -0.18039801 -0.33645321 -0.3935661 ]\n",
      "eval_val: 0.22541467612083244\n",
      "index: 29\n",
      "eval_count: 30\n",
      "var_params: [ 8.32527786e-01 -4.79979434e-04  8.18115898e-01  6.35412542e-01\n",
      " -1.21453771e+00  3.35462331e-01  1.87116891e+00  1.52611654e+00\n",
      " -9.59103862e-01 -2.32803873e-01 -3.02838798e-01 -3.63781915e-01]\n",
      "eval_val: 0.21836259767388538\n",
      "index: 30\n",
      "eval_count: 31\n",
      "var_params: [ 8.93628852e-01 -4.79979434e-04  8.18115898e-01  7.01831279e-01\n",
      " -1.16621556e+00  3.22735385e-01  1.95056885e+00  1.43336546e+00\n",
      " -1.09958740e+00 -3.46036406e-01 -2.87702362e-01 -4.28316782e-01]\n",
      "eval_val: 0.20670496604266483\n",
      "index: 31\n",
      "eval_count: 32\n",
      "var_params: [ 9.19031292e-01 -4.79979434e-04  8.18115898e-01  6.94789201e-01\n",
      " -1.12797749e+00  3.28676462e-01  2.00944397e+00  1.32996044e+00\n",
      " -1.19157104e+00 -1.56716691e-01 -2.72266105e-01 -4.68411405e-01]\n",
      "eval_val: 0.22245586292826033\n",
      "index: 32\n",
      "eval_count: 33\n",
      "var_params: [ 9.01847488e-01 -4.79979434e-04  8.18115898e-01  7.08848978e-01\n",
      " -1.17196975e+00  3.32667153e-01  1.86014478e+00  1.43304459e+00\n",
      " -1.16892263e+00 -3.42992401e-01 -2.73803139e-01 -3.81519225e-01]\n",
      "eval_val: 0.2135358510860872\n",
      "index: 33\n",
      "eval_count: 34\n",
      "var_params: [ 8.91264855e-01 -4.79979434e-04  8.18115898e-01  6.59704907e-01\n",
      " -1.13614408e+00  3.06238341e-01  1.86729798e+00  1.35888533e+00\n",
      " -1.02778784e+00 -4.51299850e-01 -3.11333356e-01 -6.02293830e-01]\n",
      "eval_val: 0.20378373934854563\n",
      "index: 34\n",
      "eval_count: 35\n",
      "var_params: [ 7.82917416e-01 -4.79979434e-04  8.18115898e-01  6.85987457e-01\n",
      " -1.13591376e+00  3.09393193e-01  1.87091725e+00  1.30762788e+00\n",
      " -1.02755118e+00 -4.61131622e-01 -3.05307693e-01 -5.82005911e-01]\n",
      "eval_val: 0.2013932001370013\n",
      "index: 35\n",
      "eval_count: 36\n",
      "var_params: [ 6.84299432e-01 -4.79979434e-04  8.18115898e-01  6.62851344e-01\n",
      " -1.08182611e+00  3.15046056e-01  1.96759958e+00  1.44371495e+00\n",
      " -1.08659777e+00 -5.73890782e-01 -2.88134871e-01 -6.52138559e-01]\n",
      "eval_val: 0.19588260849306932\n",
      "index: 36\n",
      "eval_count: 37\n",
      "var_params: [ 7.17438524e-01 -4.79979434e-04  8.18115898e-01  6.92852724e-01\n",
      " -1.01872095e+00  3.50626914e-01  2.06324900e+00  1.38975390e+00\n",
      " -9.87798089e-01 -7.26905755e-01 -2.20907575e-01 -5.77987470e-01]\n",
      "eval_val: 0.20051784619636007\n",
      "index: 37\n",
      "eval_count: 38\n",
      "var_params: [ 6.84299432e-01 -4.79979434e-04  6.93115898e-01  6.62851344e-01\n",
      " -1.08182611e+00  3.15046056e-01  1.96759958e+00  1.44371495e+00\n",
      " -1.08659777e+00 -5.73890782e-01 -2.88134871e-01 -6.52138559e-01]\n",
      "eval_val: 0.19588260849306932\n",
      "index: 38\n",
      "eval_count: 39\n",
      "var_params: [ 6.75687691e-01 -4.79979434e-04  8.18115898e-01  6.43104121e-01\n",
      " -1.30809046e+00  3.17237730e-01  2.03021330e+00  1.42114530e+00\n",
      " -1.11322349e+00 -6.37890541e-01 -2.80916070e-01 -6.91491400e-01]\n",
      "eval_val: 0.19265598510607376\n",
      "index: 39\n",
      "eval_count: 40\n",
      "var_params: [ 6.77723016e-01 -4.79979434e-04  8.18115898e-01  6.47315023e-01\n",
      " -1.30627517e+00  4.21344053e-01  2.03437185e+00  1.41781160e+00\n",
      " -1.11810649e+00 -6.41856038e-01 -3.49410853e-01 -6.92972209e-01]\n",
      "eval_val: 0.19172769948121177\n",
      "index: 40\n",
      "eval_count: 41\n",
      "var_params: [ 6.66992460e-01 -4.79979434e-04  8.18115898e-01  6.23270320e-01\n",
      " -1.29790589e+00  2.95400984e-01  2.07464604e+00  1.40034930e+00\n",
      " -1.13753840e+00 -6.98122288e-01 -5.44310682e-01 -6.43792640e-01]\n",
      "eval_val: 0.20020201310500924\n",
      "index: 41\n",
      "eval_count: 42\n",
      "var_params: [ 0.67772302  0.12452002  0.8181159   0.64731502 -1.30627517  0.42134405\n",
      "  2.03437185  1.4178116  -1.11810649 -0.64185604 -0.34941085 -0.69297221]\n",
      "eval_val: 0.19172769948121177\n",
      "index: 42\n",
      "eval_count: 43\n",
      "var_params: [ 6.75645221e-01 -4.79979434e-04  8.18115898e-01  8.72859273e-01\n",
      " -1.33444025e+00  4.06672070e-01  2.02896598e+00  1.47619348e+00\n",
      " -1.08238291e+00 -6.40760751e-01 -3.71116850e-01 -7.66665795e-01]\n",
      "eval_val: 0.21689357955118646\n",
      "index: 43\n",
      "eval_count: 44\n",
      "var_params: [ 7.07349276e-01 -4.79979434e-04  8.18115898e-01  6.70009389e-01\n",
      " -1.27786469e+00  4.18255508e-01  2.07996875e+00  1.35504421e+00\n",
      " -1.19543792e+00 -6.31886552e-01 -3.39562433e-01 -7.27903567e-01]\n",
      "eval_val: 0.1981326674174982\n",
      "index: 44\n",
      "eval_count: 45\n",
      "var_params: [ 5.85660824e-01 -4.79979434e-04  8.18115898e-01  4.54331191e-01\n",
      " -1.31997484e+00  4.73689025e-01  2.07505992e+00  1.42723578e+00\n",
      " -1.04519328e+00 -5.72751232e-01 -3.12758941e-01 -7.18945438e-01]\n",
      "eval_val: 0.1888104582938958\n",
      "index: 45\n",
      "eval_count: 46\n",
      "var_params: [ 5.86250579e-01 -4.79979434e-04  8.18115898e-01  4.34278770e-01\n",
      " -1.30582384e+00  4.67410814e-01  2.01256304e+00  1.38899301e+00\n",
      " -1.02359146e+00 -6.26033523e-01 -3.21823854e-01 -7.97854893e-01]\n",
      "eval_val: 0.19281678738236052\n",
      "index: 46\n",
      "eval_count: 47\n",
      "var_params: [ 5.49448162e-01 -4.79979434e-04  8.18115898e-01  3.78862065e-01\n",
      " -1.35146806e+00  5.27209611e-01  1.96831094e+00  1.47712093e+00\n",
      " -1.16319300e+00 -6.33649783e-01 -2.53017298e-01 -5.90293677e-01]\n",
      "eval_val: 0.19661646482875433\n",
      "index: 47\n",
      "eval_count: 48\n",
      "var_params: [ 0.68641288 -0.01706631  0.8181159   0.42448697 -1.3239431   0.4890976\n",
      "  2.07409255  1.4877572  -1.03663728 -0.58135992 -0.32138906 -0.7319645 ]\n",
      "eval_val: 0.18995046913658892\n",
      "index: 48\n",
      "eval_count: 49\n",
      "var_params: [ 0.5918755   0.1390784   0.8181159   0.35823217 -1.31397931  0.35946079\n",
      "  2.18048368  1.42552891 -1.07079202 -0.50630652 -0.2527523  -0.7485715 ]\n",
      "eval_val: 0.1952420863858857\n",
      "index: 49\n",
      "eval_count: 50\n",
      "var_params: [ 0.6280647   0.0022022   0.8181159   0.44814222 -1.35491961  0.47476681\n",
      "  2.04086186  1.35745442 -1.00426132 -0.52039169 -0.31541196 -0.67316134]\n",
      "eval_val: 0.18721608175005408\n",
      "index: 50\n",
      "eval_count: 51\n",
      "var_params: [ 0.63608277  0.00367359  0.8181159   0.4432386  -1.34074109  0.48182812\n",
      "  2.06633535  1.34013115 -0.98340769 -0.5586558  -0.29902092 -0.65199106]\n",
      "eval_val: 0.18683017162244747\n",
      "index: 51\n",
      "eval_count: 52\n",
      "var_params: [ 6.09503888e-01 -6.88861903e-04  8.18115898e-01  4.98874534e-01\n",
      " -1.37763950e+00  5.13417399e-01  2.08568511e+00  1.37401945e+00\n",
      " -9.00129377e-01 -5.35004760e-01 -2.81869265e-01 -6.40452367e-01]\n",
      "eval_val: 0.1877687417831111\n",
      "index: 52\n",
      "eval_count: 53\n",
      "var_params: [ 0.63608277  0.00367359  0.7556159   0.4432386  -1.34074109  0.48182812\n",
      "  2.06633535  1.34013115 -0.98340769 -0.5586558  -0.29902092 -0.65199106]\n",
      "eval_val: 0.18683017162244747\n",
      "index: 53\n",
      "eval_count: 54\n",
      "var_params: [ 0.6182879  -0.01204572  0.8181159   0.42628782 -1.3502996   0.44085684\n",
      "  2.08412515  1.34709744 -0.96024643 -0.57519461 -0.39929694 -0.60987641]\n",
      "eval_val: 0.19538157499442194\n",
      "index: 54\n",
      "eval_count: 55\n",
      "var_params: [ 0.63310369  0.01030842  0.8181159   0.44220277 -1.29039632  0.4767648\n",
      "  2.04616611  1.35349014 -0.96631118 -0.54336223 -0.29769448 -0.63861781]\n",
      "eval_val: 0.1868159552262914\n",
      "index: 55\n",
      "eval_count: 56\n",
      "var_params: [ 0.65336733 -0.02778092  0.8181159   0.47264316 -1.24874034  0.53796044\n",
      "  2.08371459  1.30805051 -1.00161334 -0.49830523 -0.27706579 -0.65204449]\n",
      "eval_val: 0.18647889411444016\n",
      "index: 56\n",
      "eval_count: 57\n",
      "var_params: [ 0.64630911  0.00897743  0.8181159   0.45750083 -1.25051033  0.58125638\n",
      "  2.08059555  1.30966582 -1.00520154 -0.49978021 -0.29592554 -0.64814374]\n",
      "eval_val: 0.1893641091113803\n",
      "index: 57\n",
      "eval_count: 58\n",
      "var_params: [ 0.64690502 -0.06315551  0.8181159   0.47117124 -1.26689439  0.53677903\n",
      "  2.03915043  1.31943968 -1.03924035 -0.50474815 -0.18979097 -0.59904572]\n",
      "eval_val: 0.18399538347725258\n",
      "index: 58\n",
      "eval_count: 59\n",
      "var_params: [ 0.68965281 -0.01424919  0.8181159   0.56566052 -1.26331095  0.51222835\n",
      "  2.02349431  1.31378067 -1.06878112 -0.5267856  -0.18742882 -0.58418057]\n",
      "eval_val: 0.18877731345834006\n",
      "index: 59\n",
      "eval_count: 60\n",
      "var_params: [ 0.6498187  -0.03872328  0.8181159   0.45935867 -1.2700183   0.51864056\n",
      "  2.07598348  1.33143347 -1.04988659 -0.47765653 -0.17668273 -0.58164231]\n",
      "eval_val: 0.18513182566988537\n",
      "index: 60\n",
      "eval_count: 61\n",
      "var_params: [ 0.64479002 -0.07565201  0.8181159   0.43677735 -1.26363996  0.51066393\n",
      "  2.01814068  1.28180818 -1.00448016 -0.49954168 -0.11491899 -0.66897499]\n",
      "eval_val: 0.1878594842724189\n",
      "index: 61\n",
      "eval_count: 62\n",
      "var_params: [ 0.59662268 -0.05587725  0.8181159   0.48251667 -1.26378493  0.52503441\n",
      "  2.04036806  1.28910735 -1.04557312 -0.50306913 -0.19310645 -0.59049053]\n",
      "eval_val: 0.1843684544861657\n",
      "index: 62\n",
      "eval_count: 63\n",
      "var_params: [ 0.64944821 -0.16515967  0.8181159   0.45179364 -1.26742916  0.51723081\n",
      "  2.04380223  1.32467427 -1.03860089 -0.50742642 -0.22905609 -0.54559105]\n",
      "eval_val: 0.1875846659398223\n",
      "index: 63\n",
      "eval_count: 64\n",
      "var_params: [ 0.63838758 -0.04393709  0.8181159   0.44625278 -1.2725012   0.58408692\n",
      "  2.02237151  1.32052656 -1.04677683 -0.50909485 -0.19175784 -0.58449657]\n",
      "eval_val: 0.18519271617436828\n",
      "index: 64\n",
      "eval_count: 65\n",
      "var_params: [ 0.64717696 -0.06257325  0.8181159   0.46058618 -1.25473516  0.53043546\n",
      "  2.04012947  1.32088154 -1.06066295 -0.51699078 -0.19252564 -0.60657517]\n",
      "eval_val: 0.18319943997816696\n",
      "index: 65\n",
      "eval_count: 66\n",
      "var_params: [ 0.6199198  -0.07294267  0.8181159   0.4772132  -1.24862934  0.54424431\n",
      "  2.0575617   1.3611726  -1.0603925  -0.53193289 -0.18006725 -0.62224505]\n",
      "eval_val: 0.18255134991049032\n",
      "index: 66\n",
      "eval_count: 67\n",
      "var_params: [ 0.6199198  -0.07294267  0.7868659   0.4772132  -1.24862934  0.54424431\n",
      "  2.0575617   1.3611726  -1.0603925  -0.53193289 -0.18006725 -0.62224505]\n",
      "eval_val: 0.18255134991049032\n",
      "index: 67\n",
      "eval_count: 68\n",
      "var_params: [ 0.61124875 -0.07764349  0.8181159   0.48122511 -1.26176463  0.53934699\n",
      "  2.03137929  1.37882556 -1.08372824 -0.49406375 -0.19367217 -0.64311325]\n",
      "eval_val: 0.183221363653135\n",
      "index: 68\n",
      "eval_count: 69\n",
      "var_params: [ 0.61847842 -0.0695354   0.8181159   0.47680163 -1.22346068  0.54165988\n",
      "  2.04746273  1.36785714 -1.05185176 -0.52432761 -0.17944595 -0.61555762]\n",
      "eval_val: 0.18206494250628183\n",
      "index: 69\n",
      "eval_count: 70\n",
      "var_params: [ 0.63582483 -0.05383439  0.8181159   0.518876   -1.20788154  0.5351989\n",
      "  2.03364961  1.37365417 -1.07273731 -0.54816289 -0.1737625  -0.60899349]\n",
      "eval_val: 0.18363645593569622\n",
      "index: 70\n",
      "eval_count: 71\n",
      "var_params: [ 0.62355415 -0.07886923  0.8181159   0.48379788 -1.21291361  0.55642271\n",
      "  2.05696813  1.3559081  -1.05988502 -0.51284415 -0.1736608  -0.62030597]\n",
      "eval_val: 0.1829457737893164\n",
      "index: 71\n",
      "eval_count: 72\n",
      "var_params: [ 0.61169744 -0.07132983  0.8181159   0.4506888  -1.21538451  0.52196859\n",
      "  2.03288615  1.3668135  -1.03525846 -0.5373767  -0.14647145 -0.64679377]\n",
      "eval_val: 0.1842730752713228\n",
      "index: 72\n",
      "eval_count: 73\n",
      "var_params: [ 0.61694663 -0.08787559  0.8181159   0.47380678 -1.22720181  0.53812342\n",
      "  2.04077057  1.37083258 -1.05974012 -0.52477902 -0.16649287 -0.59771017]\n",
      "eval_val: 0.18211743698528834\n",
      "index: 73\n",
      "eval_count: 74\n",
      "var_params: [ 0.61463142 -0.09429006  0.8181159   0.46524588 -1.21056061  0.53220416\n",
      "  2.05978936  1.38173816 -1.04468961 -0.53730274 -0.2264261  -0.60470005]\n",
      "eval_val: 0.18475588669031662\n",
      "index: 74\n",
      "eval_count: 75\n",
      "var_params: [ 0.61261806 -0.05707929  0.8181159   0.46460141 -1.22459517  0.56287852\n",
      "  2.03940826  1.37175261 -1.05700556 -0.5287177  -0.17940613 -0.60775918]\n",
      "eval_val: 0.18292514616088462\n",
      "index: 75\n",
      "eval_count: 76\n",
      "var_params: [ 0.63064911 -0.06935907  0.8181159   0.47318567 -1.22444285  0.5430352\n",
      "  2.05004559  1.37599716 -1.05117769 -0.52261393 -0.1776363  -0.61623267]\n",
      "eval_val: 0.1827452727166336\n",
      "index: 76\n",
      "eval_count: 77\n",
      "var_params: [ 0.60808814 -0.055925    0.8181159   0.47502951 -1.22253943  0.52869444\n",
      "  2.06348389  1.36941023 -1.05857779 -0.51468314 -0.17381674 -0.60648917]\n",
      "eval_val: 0.18210140478451117\n",
      "index: 77\n",
      "eval_count: 78\n",
      "var_params: [ 0.62013694 -0.06868143  0.8181159   0.47814899 -1.22283823  0.5441599\n",
      "  2.05337159  1.36394226 -1.04230026 -0.53062779 -0.17569967 -0.60947412]\n",
      "eval_val: 0.182232149409701\n",
      "index: 78\n",
      "eval_count: 79\n",
      "var_params: [ 0.60970481 -0.06906437  0.8181159   0.49107558 -1.23542273  0.54192571\n",
      "  2.03829988  1.3712544  -1.03793826 -0.50825051 -0.17998056 -0.61340966]\n",
      "eval_val: 0.18225215736886277\n",
      "index: 79\n",
      "eval_count: 80\n",
      "var_params: [ 0.62983164 -0.06338772  0.8181159   0.46991595 -1.22611599  0.53276855\n",
      "  2.03717854  1.34745114 -1.05203379 -0.51745502 -0.1859824  -0.60754553]\n",
      "eval_val: 0.18234610752864613\n",
      "index: 80\n",
      "eval_count: 81\n",
      "var_params: [ 0.61285829 -0.07544054  0.8181159   0.47605745 -1.22050107  0.53781532\n",
      "  2.04959792  1.36907072 -1.05074426 -0.52644984 -0.19112576 -0.61323162]\n",
      "eval_val: 0.18247717858201082\n",
      "index: 81\n",
      "eval_count: 82\n",
      "var_params: [ 0.61649863 -0.07141755  0.8181159   0.47129385 -1.22387432  0.54150292\n",
      "  2.04808844  1.36695467 -1.0489291  -0.52234907 -0.1778229  -0.61815473]\n",
      "eval_val: 0.18214188410220664\n",
      "index: 82\n",
      "eval_count: 83\n",
      "var_params: [ 0.61484968 -0.06704439  0.8181159   0.48071147 -1.22050137  0.53470202\n",
      "  2.04156645  1.36634674 -1.05276521 -0.53039362 -0.1726998  -0.62122532]\n",
      "eval_val: 0.1822774337534448\n",
      "index: 83\n",
      "eval_count: 84\n",
      "var_params: [ 0.61847842 -0.0695354   0.8103034   0.47680163 -1.22346068  0.54165988\n",
      "  2.04746273  1.36785714 -1.05185176 -0.52432761 -0.17944595 -0.61555762]\n",
      "eval_val: 0.18206494250628183\n",
      "index: 84\n",
      "eval_count: 85\n",
      "var_params: [ 0.6123611  -0.06264622  0.8181159   0.47253936 -1.2238395   0.5507315\n",
      "  2.0421849   1.36879639 -1.05494221 -0.52660065 -0.17965773 -0.61166487]\n",
      "eval_val: 0.1823799132136236\n",
      "index: 85\n",
      "eval_count: 86\n",
      "var_params: [ 0.61795345 -0.07008101  0.8181159   0.47728609 -1.22985864  0.54172793\n",
      "  2.04955303  1.36607548 -1.05401627 -0.52640513 -0.17974674 -0.61718651]\n",
      "eval_val: 0.18225706110665393\n",
      "index: 86\n",
      "eval_count: 87\n",
      "var_params: [ 0.61888114 -0.06717958  0.8181159   0.47706104 -1.22302489  0.54198598\n",
      "  2.04815359  1.36718683 -1.0508788  -0.52417082 -0.18114198 -0.61765734]\n",
      "eval_val: 0.1821310668240515\n",
      "index: 87\n",
      "eval_count: 88\n",
      "var_params: [ 0.62113391 -0.06868522  0.8181159   0.47515896 -1.22396645  0.53913741\n",
      "  2.04443058  1.36298791 -1.05223002 -0.52277835 -0.1804894  -0.6128358 ]\n",
      "eval_val: 0.18209986025943506\n",
      "index: 88\n",
      "eval_count: 89\n",
      "var_params: [ 0.61947988 -0.07145242  0.8181159   0.47734206 -1.22322175  0.5436125\n",
      "  2.04574544  1.36704675 -1.05130964 -0.52519321 -0.18000511 -0.61676487]\n",
      "eval_val: 0.18203108991043682\n",
      "index: 89\n",
      "eval_count: 90\n",
      "var_params: [ 0.61865921 -0.0730713   0.8181159   0.47977824 -1.22012413  0.54564165\n",
      "  2.04797584  1.36390477 -1.05397869 -0.52169779 -0.1780315  -0.6168628 ]\n",
      "eval_val: 0.18230316659322074\n",
      "index: 90\n",
      "eval_count: 91\n",
      "var_params: [ 0.6184717  -0.07146835  0.81861193  0.47914856 -1.22435056  0.54320348\n",
      "  2.04508102  1.36847972 -1.05020459 -0.52317948 -0.1794601  -0.61565898]\n",
      "eval_val: 0.18199327042482483\n",
      "index: 91\n",
      "eval_count: 92\n",
      "var_params: [ 0.6190211  -0.07148137  0.81654302  0.48004819 -1.22646048  0.5447295\n",
      "  2.04153886  1.36589853 -1.04596124 -0.52268285 -0.18143841 -0.61839524]\n",
      "eval_val: 0.18204004102208446\n",
      "index: 92\n",
      "eval_count: 93\n",
      "var_params: [ 0.61821421 -0.07156575  0.81852417  0.47883631 -1.22439325  0.54231703\n",
      "  2.04337146  1.36940438 -1.05240747 -0.52198097 -0.18007821 -0.61761895]\n",
      "eval_val: 0.18175341235730452\n",
      "index: 93\n",
      "eval_count: 94\n",
      "var_params: [ 0.61675771 -0.07117481  0.81875713  0.48044904 -1.22273728  0.53823165\n",
      "  2.03972866  1.3702749  -1.05270527 -0.52466162 -0.17682195 -0.61980241]\n",
      "eval_val: 0.18194000258120535\n",
      "index: 94\n",
      "eval_count: 95\n",
      "var_params: [ 0.61572706 -0.07015226  0.81861451  0.47818221 -1.22435695  0.54404455\n",
      "  2.04208195  1.36899596 -1.05313564 -0.52254911 -0.18010127 -0.61663406]\n",
      "eval_val: 0.18207781586595315\n",
      "index: 95\n",
      "eval_count: 96\n",
      "var_params: [ 0.62363044 -0.07274924  0.81828488  0.47760257 -1.22515249  0.54206942\n",
      "  2.04246318  1.37370858 -1.05338088 -0.51957188 -0.18088779 -0.61876965]\n",
      "eval_val: 0.1822963882912673\n",
      "index: 96\n",
      "eval_count: 97\n",
      "var_params: [ 0.61565386 -0.07516493  0.81852127  0.47946817 -1.22308863  0.53929142\n",
      "  2.04413466  1.36953863 -1.05208914 -0.52229468 -0.18548357 -0.617117  ]\n",
      "eval_val: 0.18212778506317817\n",
      "index: 97\n",
      "eval_count: 98\n",
      "var_params: [ 0.61796144 -0.07203014  0.81871581  0.47948417 -1.2275376   0.54182339\n",
      "  2.04436976  1.36865774 -1.05370009 -0.5226285  -0.17965253 -0.61837177]\n",
      "eval_val: 0.18197992633055377\n",
      "index: 98\n",
      "eval_count: 99\n",
      "var_params: [ 0.61780712 -0.07178921  0.81680889  0.47839828 -1.224493    0.54209776\n",
      "  2.04364404  1.36969088 -1.052384   -0.52180216 -0.17963733 -0.61746509]\n",
      "eval_val: 0.18169923290553977\n",
      "index: 99\n",
      "eval_count: 100\n",
      "var_params: [ 0.61676622 -0.07277341  0.81815297  0.47593068 -1.2246644   0.54175191\n",
      "  2.0440119   1.36948347 -1.05115584 -0.52071363 -0.17853409 -0.6185011 ]\n",
      "eval_val: 0.18196755143570842\n",
      "index: 100\n",
      "eval_count: 101\n",
      "var_params: [ 0.61827269 -0.07158196  0.81680889  0.47787557 -1.22474559  0.54119637\n",
      "  2.04303339  1.36878985 -1.0525954  -0.52141723 -0.17966264 -0.61645158]\n",
      "eval_val: 0.1819747420769615\n",
      "index: 101\n",
      "eval_count: 102\n",
      "var_params: [ 0.61775649 -0.07232353  0.81619782  0.48021755 -1.22279712  0.54296448\n",
      "  2.0444344   1.36844658 -1.05321231 -0.52008771 -0.17880157 -0.61854373]\n",
      "eval_val: 0.18184730270821842\n",
      "index: 102\n",
      "eval_count: 103\n",
      "var_params: [ 0.61758212 -0.07128568  0.81729187  0.47821654 -1.22402685  0.54154948\n",
      "  2.04470751  1.37033453 -1.05325981 -0.52173363 -0.17930668 -0.61691736]\n",
      "eval_val: 0.18180654629189835\n",
      "index: 103\n",
      "eval_count: 104\n",
      "var_params: [ 0.61770871 -0.06903079  0.8161459   0.47860492 -1.22471363  0.54134694\n",
      "  2.04434567  1.36960214 -1.05106582 -0.52128289 -0.18081745 -0.61909158]\n",
      "eval_val: 0.18185103039979938\n",
      "index: 104\n",
      "eval_count: 105\n",
      "var_params: [ 0.61793225 -0.07165141  0.81740683  0.4789159  -1.22381645  0.54119438\n",
      "  2.04287086  1.36977204 -1.05218681 -0.52247425 -0.17892914 -0.61799825]\n",
      "eval_val: 0.18194899493478997\n",
      "index: 105\n",
      "eval_count: 106\n",
      "var_params: [ 0.61688615 -0.07272329  0.81396458  0.47847188 -1.22546305  0.54303965\n",
      "  2.04423064  1.37104469 -1.05210763 -0.5229001  -0.17929925 -0.61726162]\n",
      "eval_val: 0.18176893208881287\n",
      "index: 106\n",
      "eval_count: 107\n",
      "var_params: [ 0.61724357 -0.07267448  0.8169627   0.47865568 -1.22408502  0.541623\n",
      "  2.04382054  1.36977391 -1.05229012 -0.52185847 -0.1811143  -0.61745191]\n",
      "eval_val: 0.18184561858837267\n",
      "index: 107\n",
      "eval_count: 108\n",
      "var_params: [ 0.61760853 -0.07178926  0.81696044  0.47883374 -1.22476457  0.5420164\n",
      "  2.04345772  1.3700847  -1.05211154 -0.52128624 -0.17951872 -0.61718762]\n",
      "eval_val: 0.18175292940741947\n",
      "index: 108\n",
      "eval_count: 109\n",
      "var_params: [ 0.61910846 -0.07187138  0.81695325  0.47804694 -1.22443125  0.54297264\n",
      "  2.04349016  1.37057253 -1.05260761 -0.52155727 -0.18006007 -0.61779874]\n",
      "eval_val: 0.18197448396413424\n",
      "index: 109\n",
      "eval_count: 110\n",
      "var_params: [ 0.61736824 -0.07161407  0.8167346   0.47822746 -1.22453329  0.54216115\n",
      "  2.043133    1.36981993 -1.05294533 -0.52164536 -0.17974155 -0.61771348]\n",
      "eval_val: 0.1817611883026278\n",
      "index: 110\n",
      "eval_count: 111\n",
      "var_params: [ 0.6171266  -0.07122693  0.81729092  0.47848024 -1.22420128  0.54333366\n",
      "  2.04365986  1.36921439 -1.05195354 -0.52237023 -0.17970522 -0.61679881]\n",
      "eval_val: 0.18198023325918414\n",
      "index: 111\n",
      "eval_count: 112\n",
      "var_params: [ 0.61785932 -0.07200871  0.81734182  0.47893267 -1.22589839  0.54209201\n",
      "  2.04417991  1.36923032 -1.05293286 -0.52217771 -0.17960134 -0.61799063]\n",
      "eval_val: 0.18195967876079325\n",
      "index: 112\n",
      "eval_count: 113\n",
      "var_params: [ 0.61778736 -0.07111904  0.81651034  0.47838901 -1.22454419  0.54188982\n",
      "  2.04388195  1.36966146 -1.05203465 -0.52165126 -0.17991045 -0.61783729]\n",
      "eval_val: 0.18172404543930049\n",
      "index: 113\n",
      "eval_count: 114\n",
      "var_params: [ 0.61785779 -0.07180626  0.81688175  0.47856579 -1.2242908   0.54218119\n",
      "  2.04370576  1.36945193 -1.05248228 -0.52151634 -0.17960483 -0.61757739]\n",
      "eval_val: 0.1817845827563041\n",
      "index: 114\n",
      "eval_count: 115\n",
      "var_params: [ 0.61764942 -0.07209558  0.81597732  0.47839593 -1.22447664  0.54210476\n",
      "  2.04381381  1.36983531 -1.05233316 -0.52193996 -0.17929776 -0.6174114 ]\n",
      "eval_val: 0.1816981521174622\n",
      "index: 115\n",
      "eval_count: 116\n",
      "var_params: [ 0.61759578 -0.07227287  0.81608301  0.4780977  -1.22452484  0.54198425\n",
      "  2.04387569  1.36986058 -1.05221902 -0.52176576 -0.17917886 -0.61760313]\n",
      "eval_val: 0.18172501939570634\n",
      "index: 116\n",
      "eval_count: 117\n",
      "var_params: [ 0.61718631 -0.07190926  0.81611856  0.47814212 -1.22440527  0.5426518\n",
      "  2.04386826  1.36972901 -1.05192968 -0.52225911 -0.1792266  -0.6171319 ]\n",
      "eval_val: 0.18172590042356535\n",
      "index: 117\n",
      "eval_count: 118\n",
      "var_params: [ 0.61755327 -0.07205557  0.81592692  0.47832459 -1.22455273  0.5418527\n",
      "  2.04373866  1.36952156 -1.05234165 -0.52189813 -0.17926938 -0.61717583]\n",
      "eval_val: 0.1817501593386402\n",
      "index: 118\n",
      "eval_count: 119\n",
      "var_params: [ 0.61833152 -0.07205425  0.81579222  0.47801288 -1.22454942  0.54233286\n",
      "  2.04363461  1.37018679 -1.05228315 -0.52199816 -0.17952921 -0.61712924]\n",
      "eval_val: 0.18184022811500467\n",
      "index: 119\n",
      "eval_count: 120\n",
      "var_params: [ 0.61762894 -0.07214327  0.81596206  0.47839241 -1.22483698  0.5422657\n",
      "  2.04403632  1.36975524 -1.05247197 -0.52187149 -0.17940408 -0.61740018]\n",
      "eval_val: 0.1816956524777023\n",
      "index: 120\n",
      "eval_count: 121\n",
      "var_params: [ 0.61764489 -0.07216172  0.81616208  0.4787447  -1.22518187  0.54210345\n",
      "  2.04402995  1.36981937 -1.05244581 -0.52255133 -0.17913709 -0.61778968]\n",
      "eval_val: 0.18196612807185\n",
      "index: 121\n",
      "eval_count: 122\n",
      "var_params: [ 0.61759089 -0.07237641  0.81588717  0.47846734 -1.22487078  0.54230621\n",
      "  2.04384737  1.36963735 -1.05228089 -0.5218937  -0.17968999 -0.61750902]\n",
      "eval_val: 0.18170000520998938\n",
      "index: 122\n",
      "eval_count: 123\n",
      "var_params: [ 0.6173134  -0.07233401  0.81605322  0.47838153 -1.22450806  0.5419928\n",
      "  2.04449657  1.3700839  -1.05263294 -0.52195969 -0.17992395 -0.61717849]\n",
      "eval_val: 0.1816975715176392\n",
      "index: 123\n",
      "eval_count: 124\n",
      "var_params: [ 0.6174429  -0.07204515  0.81583282  0.47843855 -1.22473321  0.54232194\n",
      "  2.04378433  1.36991147 -1.05272146 -0.52187375 -0.17942516 -0.61754984]\n",
      "eval_val: 0.18167236562729566\n",
      "index: 124\n",
      "eval_count: 125\n",
      "var_params: [ 0.61710491 -0.07199799  0.81597701  0.47776488 -1.22519168  0.54238298\n",
      "  2.04367894  1.36976688 -1.05295973 -0.52163553 -0.17963154 -0.61746697]\n",
      "eval_val: 0.18181601207748455\n",
      "index: 125\n",
      "eval_count: 126\n",
      "var_params: [ 0.61734397 -0.07205266  0.81594499  0.47861274 -1.22491065  0.54227107\n",
      "  2.04365415  1.37016631 -1.05258214 -0.52170449 -0.17938235 -0.6173727 ]\n",
      "eval_val: 0.18167351687783956\n",
      "index: 126\n",
      "eval_count: 127\n",
      "var_params: [ 0.61728858 -0.0719459   0.81533517  0.47871781 -1.22445782  0.54257228\n",
      "  2.04410842  1.36985879 -1.05256748 -0.52127802 -0.17934933 -0.61764994]\n",
      "eval_val: 0.1817567935606687\n",
      "index: 127\n",
      "eval_count: 128\n",
      "var_params: [ 0.61752084 -0.07231503  0.81591919  0.47846242 -1.22473721  0.54249741\n",
      "  2.04385184  1.36983191 -1.05289734 -0.52181413 -0.17920119 -0.61735822]\n",
      "eval_val: 0.1816981521174622\n",
      "index: 128\n",
      "eval_count: 129\n",
      "var_params: [ 0.61710285 -0.07249116  0.81577053  0.47855107 -1.22423371  0.54228747\n",
      "  2.0432313   1.37004557 -1.05282068 -0.52202158 -0.17964247 -0.6176742 ]\n",
      "eval_val: 0.18178691308597925\n",
      "index: 129\n",
      "time taken: \n",
      "41.34375\n",
      "testing success ratio: 1.0\n"
     ]
    }
   ],
   "source": [
    "start = time.process_time()\n",
    "\n",
    "result = vqc.run(quantum_instance)\n",
    "\n",
    "print(\"time taken: \")\n",
    "print(time.process_time() - start)\n",
    "\n",
    "\n",
    "print(\"testing success ratio: {}\".format(result['testing_accuracy']))"
   ]
  },
  {
   "cell_type": "code",
   "execution_count": 26,
   "metadata": {},
   "outputs": [
    {
     "name": "stdout",
     "output_type": "stream",
     "text": [
      "prediction of datapoints:\n",
      "ground truth: ['A', 'A', 'A', 'A', 'A', 'B', 'B', 'B', 'B', 'B']\n",
      "prediction:   ['A', 'A', 'A', 'A', 'A', 'B', 'B', 'B', 'B', 'B']\n"
     ]
    }
   ],
   "source": [
    "print(\"prediction of datapoints:\")\n",
    "print(\"ground truth: {}\".format(map_label_to_class_name(datapoints[1], vqc.label_to_class)))\n",
    "print(\"prediction:   {}\".format(result['predicted_classes']))"
   ]
  },
  {
   "cell_type": "markdown",
   "metadata": {},
   "source": [
    "As you can see we seem to get a pretty good accuracy, but that is because we have used such a small training and testing set along with the fact that digits `0` and `1` are so far apart making it easy to classify them. Its your turn to play around with the options that you have and create better feature maps, variational circuit, assigning the correct optimization routine, etc. Have fun! "
   ]
  },
  {
   "cell_type": "code",
   "execution_count": null,
   "metadata": {},
   "outputs": [],
   "source": []
  }
 ],
 "metadata": {
  "kernelspec": {
   "display_name": "Python 3",
   "language": "python",
   "name": "python3"
  },
  "language_info": {
   "codemirror_mode": {
    "name": "ipython",
    "version": 3
   },
   "file_extension": ".py",
   "mimetype": "text/x-python",
   "name": "python",
   "nbconvert_exporter": "python",
   "pygments_lexer": "ipython3",
   "version": "3.8.3"
  }
 },
 "nbformat": 4,
 "nbformat_minor": 4
}
